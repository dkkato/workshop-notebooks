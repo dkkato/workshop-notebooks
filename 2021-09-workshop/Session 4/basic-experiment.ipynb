{
 "cells": [
  {
   "cell_type": "markdown",
   "metadata": {},
   "source": [
    "## Some standard experiments"
   ]
  },
  {
   "cell_type": "code",
   "execution_count": 1,
   "metadata": {},
   "outputs": [],
   "source": [
    "import pybamm\n",
    "import numpy as np\n",
    "import matplotlib.pyplot as plt\n",
    "\n",
    "pybamm.set_logging_level(\"NOTICE\")"
   ]
  },
  {
   "cell_type": "markdown",
   "metadata": {},
   "source": [
    "## CCCV"
   ]
  },
  {
   "cell_type": "code",
   "execution_count": 2,
   "metadata": {},
   "outputs": [
    {
     "name": "stderr",
     "output_type": "stream",
     "text": [
      "2021-09-30 08:43:18,529 - [NOTICE] simulation.solve(784): Cycle 1/1 (99.160 ms elapsed) --------------------\n",
      "2021-09-30 08:43:18,530 - [NOTICE] simulation.solve(818): Cycle 1/1, step 1/4: Discharge at 1C until 2.5V\n",
      "2021-09-30 08:43:18,621 - [NOTICE] simulation.solve(818): Cycle 1/1, step 2/4: Rest for 1 hour\n",
      "2021-09-30 08:43:18,681 - [NOTICE] simulation.solve(818): Cycle 1/1, step 3/4: Charge at 2C until 4.2V\n",
      "2021-09-30 08:43:18,735 - [NOTICE] simulation.solve(818): Cycle 1/1, step 4/4: Hold at 4.2V until C/50\n",
      "2021-09-30 08:43:19,223 - [NOTICE] simulation.solve(913): Finish experiment simulation, took 793.178 ms\n"
     ]
    },
    {
     "data": {
      "application/vnd.jupyter.widget-view+json": {
       "model_id": "29d1b28d33ff41b8847832615ef57444",
       "version_major": 2,
       "version_minor": 0
      },
      "text/plain": [
       "interactive(children=(FloatSlider(value=0.0, description='t', max=3.644798646779842, step=0.03644798646779842)…"
      ]
     },
     "metadata": {},
     "output_type": "display_data"
    },
    {
     "data": {
      "text/plain": [
       "<pybamm.plotting.quick_plot.QuickPlot at 0x14c3b01c0>"
      ]
     },
     "execution_count": 2,
     "metadata": {},
     "output_type": "execute_result"
    }
   ],
   "source": [
    "experiment = pybamm.Experiment([\n",
    "    (f\"Discharge at 1C until 2.5V\",\n",
    "    \"Rest for 1 hour\",\n",
    "    f\"Charge at 2C until 4.2V\",\n",
    "    \"Hold at 4.2V until C/50\"),\n",
    "])\n",
    "model = pybamm.lithium_ion.SPMe()\n",
    "parameter_values = pybamm.ParameterValues(chemistry=pybamm.parameter_sets.Chen2020)\n",
    "sim = pybamm.Simulation(model, experiment=experiment, parameter_values=parameter_values)\n",
    "sim.solve()\n",
    "sim.plot([\"Terminal voltage [V]\", \"Current [A]\"])"
   ]
  },
  {
   "cell_type": "code",
   "execution_count": 3,
   "metadata": {},
   "outputs": [
    {
     "name": "stderr",
     "output_type": "stream",
     "text": [
      "2021-09-30 08:43:21,192 - [NOTICE] simulation.solve(784): Cycle 1/2 (24.862 ms elapsed) --------------------\n",
      "2021-09-30 08:43:21,192 - [NOTICE] simulation.solve(818): Cycle 1/2, step 1/4: Discharge at 1C until 2.5V\n",
      "2021-09-30 08:43:21,284 - [NOTICE] simulation.solve(818): Cycle 1/2, step 2/4: Rest for 1 hour\n",
      "2021-09-30 08:43:21,353 - [NOTICE] simulation.solve(818): Cycle 1/2, step 3/4: Charge at 1C until 4.2V\n",
      "2021-09-30 08:43:21,436 - [NOTICE] simulation.solve(818): Cycle 1/2, step 4/4: Hold at 4.2V until C/50\n",
      "2021-09-30 08:43:21,897 - [NOTICE] simulation.solve(784): Cycle 2/2 (730.414 ms elapsed) --------------------\n",
      "2021-09-30 08:43:21,898 - [NOTICE] simulation.solve(818): Cycle 2/2, step 1/4: Discharge at 1C until 2.5V\n",
      "2021-09-30 08:43:21,958 - [NOTICE] simulation.solve(818): Cycle 2/2, step 2/4: Rest for 1 hour\n",
      "2021-09-30 08:43:22,002 - [NOTICE] simulation.solve(818): Cycle 2/2, step 3/4: Charge at 1C until 4.2V\n",
      "2021-09-30 08:43:22,049 - [NOTICE] simulation.solve(818): Cycle 2/2, step 4/4: Hold at 4.2V until C/50\n",
      "2021-09-30 08:43:22,317 - [NOTICE] simulation.solve(913): Finish experiment simulation, took 1.150 s\n"
     ]
    },
    {
     "data": {
      "application/vnd.jupyter.widget-view+json": {
       "model_id": "2ab98bec06d84cf1ac9a5972042eca96",
       "version_major": 2,
       "version_minor": 0
      },
      "text/plain": [
       "interactive(children=(FloatSlider(value=0.0, description='t', max=7.828247110527843, step=0.07828247110527843)…"
      ]
     },
     "metadata": {},
     "output_type": "display_data"
    },
    {
     "data": {
      "text/plain": [
       "<pybamm.plotting.quick_plot.QuickPlot at 0x14c3b0be0>"
      ]
     },
     "execution_count": 3,
     "metadata": {},
     "output_type": "execute_result"
    }
   ],
   "source": [
    "experiment = pybamm.Experiment([\n",
    "    (\"Discharge at 1C until 2.5V\",\n",
    "    \"Rest for 1 hour\",\n",
    "    \"Charge at 1C until 4.2V\",\n",
    "    \"Hold at 4.2V until C/50\")]*2)\n",
    "sim = pybamm.Simulation(model, experiment=experiment, parameter_values=parameter_values)\n",
    "sim.solve()\n",
    "sim.plot([\"Terminal voltage [V]\", \"Current [A]\"])"
   ]
  },
  {
   "cell_type": "markdown",
   "metadata": {},
   "source": [
    "Interacting with the solution of an experiment"
   ]
  },
  {
   "cell_type": "code",
   "execution_count": 4,
   "metadata": {},
   "outputs": [
    {
     "data": {
      "application/vnd.jupyter.widget-view+json": {
       "model_id": "826f88dc69134821aa7943015c0371f1",
       "version_major": 2,
       "version_minor": 0
      },
      "text/plain": [
       "interactive(children=(FloatSlider(value=3.911842513594913, description='t', max=7.828247110527843, min=3.91184…"
      ]
     },
     "metadata": {},
     "output_type": "display_data"
    },
    {
     "data": {
      "text/plain": [
       "<pybamm.plotting.quick_plot.QuickPlot at 0x14c97eb50>"
      ]
     },
     "execution_count": 4,
     "metadata": {},
     "output_type": "execute_result"
    }
   ],
   "source": [
    "sim.solution.cycles[1].plot([\"Terminal voltage [V]\", \"Current [A]\"])"
   ]
  },
  {
   "cell_type": "code",
   "execution_count": 5,
   "metadata": {},
   "outputs": [
    {
     "data": {
      "image/png": "[encoded data removed]",
      "text/plain": [
       "<Figure size 432x288 with 1 Axes>"
      ]
     },
     "metadata": {
      "needs_background": "light"
     },
     "output_type": "display_data"
    }
   ],
   "source": [
    "sol = sim.solution\n",
    "fig, ax = plt.subplots()\n",
    "for cycle in sol.cycles:\n",
    "    t = cycle.steps[2][\"Time [s]\"].data\n",
    "    V = cycle.steps[2][\"Terminal voltage [V]\"].data\n",
    "    ax.plot(t-t[0],V)"
   ]
  },
  {
   "cell_type": "markdown",
   "metadata": {},
   "source": [
    "## Defining an experiment using a function"
   ]
  },
  {
   "cell_type": "code",
   "execution_count": 6,
   "metadata": {},
   "outputs": [
    {
     "data": {
      "text/plain": [
       "pybamm.Experiment(['Discharge at 2C until 2.5V', 'Rest for 1 hour', 'Charge at 0.5C until 4.2V', 'Hold at 4.2V until C/50'])"
      ]
     },
     "execution_count": 6,
     "metadata": {},
     "output_type": "execute_result"
    }
   ],
   "source": [
    "def get_experiment(discharge, charge):\n",
    "    experiment = pybamm.Experiment([\n",
    "        (f\"Discharge at {discharge}C until 2.5V\",\n",
    "        \"Rest for 1 hour\",\n",
    "        f\"Charge at {charge}C until 4.2V\",\n",
    "        \"Hold at 4.2V until C/50\"),\n",
    "    ])\n",
    "    return experiment\n",
    "\n",
    "experiment = get_experiment(2,0.5)\n",
    "experiment"
   ]
  },
  {
   "cell_type": "code",
   "execution_count": 7,
   "metadata": {},
   "outputs": [
    {
     "name": "stderr",
     "output_type": "stream",
     "text": [
      "2021-09-30 08:43:24,757 - [NOTICE] simulation.solve(784): Cycle 1/1 (28.230 ms elapsed) --------------------\n",
      "2021-09-30 08:43:24,757 - [NOTICE] simulation.solve(818): Cycle 1/1, step 1/4: Discharge at 2C until 2.5V\n",
      "2021-09-30 08:43:24,831 - [NOTICE] simulation.solve(818): Cycle 1/1, step 2/4: Rest for 1 hour\n",
      "2021-09-30 08:43:24,898 - [NOTICE] simulation.solve(818): Cycle 1/1, step 3/4: Charge at 0.5C until 4.2V\n",
      "2021-09-30 08:43:25,015 - [NOTICE] simulation.solve(818): Cycle 1/1, step 4/4: Hold at 4.2V until C/50\n",
      "2021-09-30 08:43:25,412 - [NOTICE] simulation.solve(913): Finish experiment simulation, took 683.309 ms\n"
     ]
    },
    {
     "data": {
      "application/vnd.jupyter.widget-view+json": {
       "model_id": "6b13e775d7c04a5c8a4f6dc185ad8323",
       "version_major": 2,
       "version_minor": 0
      },
      "text/plain": [
       "interactive(children=(FloatSlider(value=0.0, description='t', max=4.063070786885794, step=0.04063070786885794)…"
      ]
     },
     "metadata": {},
     "output_type": "display_data"
    },
    {
     "data": {
      "text/plain": [
       "<pybamm.plotting.quick_plot.QuickPlot at 0x14d0dfaf0>"
      ]
     },
     "execution_count": 7,
     "metadata": {},
     "output_type": "execute_result"
    }
   ],
   "source": [
    "sim = pybamm.Simulation(model, experiment=experiment, parameter_values=parameter_values)\n",
    "sim.solve()\n",
    "sim.plot([\"Terminal voltage [V]\", \"Current [A]\"])"
   ]
  },
  {
   "cell_type": "markdown",
   "metadata": {},
   "source": [
    "## Constant power"
   ]
  },
  {
   "cell_type": "code",
   "execution_count": 8,
   "metadata": {},
   "outputs": [
    {
     "data": {
      "text/plain": [
       "5.0"
      ]
     },
     "execution_count": 8,
     "metadata": {},
     "output_type": "execute_result"
    }
   ],
   "source": [
    "parameter_values[\"Nominal cell capacity [A.h]\"]"
   ]
  },
  {
   "cell_type": "code",
   "execution_count": 9,
   "metadata": {},
   "outputs": [
    {
     "name": "stderr",
     "output_type": "stream",
     "text": [
      "2021-09-30 08:43:27,038 - [NOTICE] simulation.solve(784): Cycle 1/1 (24.723 ms elapsed) --------------------\n",
      "2021-09-30 08:43:27,038 - [NOTICE] simulation.solve(818): Cycle 1/1, step 1/3: Discharge at 5A until 2.5V\n",
      "2021-09-30 08:43:27,123 - [NOTICE] simulation.solve(818): Cycle 1/1, step 2/3: Charge at 15W until 4.2V\n",
      "2021-09-30 08:43:27,449 - [NOTICE] simulation.solve(818): Cycle 1/1, step 3/3: Hold at 4.2V until 0.01A\n",
      "2021-09-30 08:43:27,958 - [NOTICE] simulation.solve(913): Finish experiment simulation, took 945.400 ms\n"
     ]
    },
    {
     "data": {
      "application/vnd.jupyter.widget-view+json": {
       "model_id": "190bc00036aa4854afbd5a39a2dacc4b",
       "version_major": 2,
       "version_minor": 0
      },
      "text/plain": [
       "interactive(children=(FloatSlider(value=0.0, description='t', max=3.807579317014924, step=0.03807579317014924)…"
      ]
     },
     "metadata": {},
     "output_type": "display_data"
    },
    {
     "data": {
      "text/plain": [
       "<pybamm.plotting.quick_plot.QuickPlot at 0x14c9c3a90>"
      ]
     },
     "execution_count": 9,
     "metadata": {},
     "output_type": "execute_result"
    }
   ],
   "source": [
    "experiment = pybamm.Experiment([\n",
    "    (\"Discharge at 5A until 2.5V\",\n",
    "    \"Charge at 15W until 4.2V\",\n",
    "    \"Hold at 4.2V until 0.01A\")\n",
    "])\n",
    "sim = pybamm.Simulation(model, experiment=experiment, parameter_values=parameter_values)\n",
    "sim.solve()\n",
    "sim.plot([\"Current [A]\", \"Terminal power [W]\", \"Terminal voltage [V]\"])"
   ]
  },
  {
   "cell_type": "markdown",
   "metadata": {},
   "source": [
    "## Pulse charging"
   ]
  },
  {
   "cell_type": "code",
   "execution_count": 10,
   "metadata": {},
   "outputs": [
    {
     "name": "stderr",
     "output_type": "stream",
     "text": [
      "2021-09-30 08:43:30,677 - [NOTICE] simulation.solve(784): Cycle 1/1 (26.049 ms elapsed) --------------------\n",
      "2021-09-30 08:43:30,678 - [NOTICE] simulation.solve(818): Cycle 1/1, step 1/11: Discharge at 5A until 2.5V\n",
      "2021-09-30 08:43:30,764 - [NOTICE] simulation.solve(818): Cycle 1/1, step 2/11: Charge at 2C for 1 minute (1 second period)\n",
      "2021-09-30 08:43:30,799 - [NOTICE] simulation.solve(818): Cycle 1/1, step 3/11: Rest for 5 minutes (10 second period)\n",
      "2021-09-30 08:43:30,827 - [NOTICE] simulation.solve(818): Cycle 1/1, step 4/11: Charge at 2C for 1 minute (1 second period)\n",
      "2021-09-30 08:43:30,833 - [NOTICE] simulation.solve(818): Cycle 1/1, step 5/11: Rest for 5 minutes (10 second period)\n",
      "2021-09-30 08:43:30,843 - [NOTICE] simulation.solve(818): Cycle 1/1, step 6/11: Charge at 2C for 1 minute (1 second period)\n",
      "2021-09-30 08:43:30,848 - [NOTICE] simulation.solve(818): Cycle 1/1, step 7/11: Rest for 5 minutes (10 second period)\n",
      "2021-09-30 08:43:30,856 - [NOTICE] simulation.solve(818): Cycle 1/1, step 8/11: Charge at 2C for 1 minute (1 second period)\n",
      "2021-09-30 08:43:30,862 - [NOTICE] simulation.solve(818): Cycle 1/1, step 9/11: Rest for 5 minutes (10 second period)\n",
      "2021-09-30 08:43:30,870 - [NOTICE] simulation.solve(818): Cycle 1/1, step 10/11: Charge at 15W until 4.2V\n",
      "2021-09-30 08:43:31,163 - [NOTICE] simulation.solve(818): Cycle 1/1, step 11/11: Hold at 4.2V until 0.01A\n",
      "2021-09-30 08:43:31,693 - [NOTICE] simulation.solve(913): Finish experiment simulation, took 1.043 s\n"
     ]
    },
    {
     "data": {
      "application/vnd.jupyter.widget-view+json": {
       "model_id": "ccf30988d7c04a3ea52093c32dd75313",
       "version_major": 2,
       "version_minor": 0
      },
      "text/plain": [
       "interactive(children=(FloatSlider(value=0.0, description='t', max=4.052087670443943, step=0.040520876704439435…"
      ]
     },
     "metadata": {},
     "output_type": "display_data"
    },
    {
     "data": {
      "text/plain": [
       "<pybamm.plotting.quick_plot.QuickPlot at 0x14fe9d3d0>"
      ]
     },
     "execution_count": 10,
     "metadata": {},
     "output_type": "execute_result"
    }
   ],
   "source": [
    "cycle = [\"Discharge at 5A until 2.5V\"] + [\n",
    "    \"Charge at 2C for 1 minute (1 second period)\",\n",
    "    \"Rest for 5 minutes (10 second period)\"] * 4 + [\n",
    "    \"Charge at 15W until 4.2V\",\n",
    "    \"Hold at 4.2V until 0.01A\"]\n",
    "experiment = pybamm.Experiment([\n",
    "    tuple(cycle)\n",
    "])\n",
    "sim = pybamm.Simulation(model, experiment=experiment, parameter_values=parameter_values)\n",
    "sim.solve()\n",
    "sim.plot([\"Current [A]\", \"Terminal power [W]\", \"Terminal voltage [V]\"])"
   ]
  },
  {
   "cell_type": "code",
   "execution_count": 11,
   "metadata": {},
   "outputs": [
    {
     "data": {
      "image/png": "[encoded data removed]",
      "text/plain": [
       "<Figure size 432x288 with 1 Axes>"
      ]
     },
     "metadata": {
      "needs_background": "light"
     },
     "output_type": "display_data"
    }
   ],
   "source": [
    "sol = sim.solution\n",
    "for i in range(1,9):\n",
    "    step = sol.cycles[0].steps[i]\n",
    "    plt.plot(step[\"Time [s]\"].data, step[\"Terminal voltage [V]\"].data, \"r-\")"
   ]
  },
  {
   "cell_type": "code",
   "execution_count": 12,
   "metadata": {},
   "outputs": [
    {
     "data": {
      "application/vnd.jupyter.widget-view+json": {
       "model_id": "e90b78ba3de04c7fb1e1f0485a5c7822",
       "version_major": 2,
       "version_minor": 0
      },
      "text/plain": [
       "interactive(children=(FloatSlider(value=0.9870997412344541, description='t', max=1.3870997412344537, min=0.987…"
      ]
     },
     "metadata": {},
     "output_type": "display_data"
    },
    {
     "data": {
      "text/plain": [
       "<pybamm.plotting.quick_plot.QuickPlot at 0x1517eb5e0>"
      ]
     },
     "execution_count": 12,
     "metadata": {},
     "output_type": "execute_result"
    }
   ],
   "source": [
    "sol = sim.solution\n",
    "pulses = sol.cycles[0].steps[1]\n",
    "for i in range(2,9):\n",
    "    pulses += sol.cycles[0].steps[i]\n",
    "pulses.plot([\"Terminal voltage [V]\"])"
   ]
  },
  {
   "cell_type": "markdown",
   "metadata": {},
   "source": [
    "## GITT"
   ]
  },
  {
   "cell_type": "code",
   "execution_count": 13,
   "metadata": {},
   "outputs": [
    {
     "name": "stderr",
     "output_type": "stream",
     "text": [
      "2021-09-30 08:43:33,160 - [NOTICE] simulation.solve(784): Cycle 1/1 (24.633 ms elapsed) --------------------\n",
      "2021-09-30 08:43:33,160 - [NOTICE] simulation.solve(818): Cycle 1/1, step 1/40: Discharge at C/20 for 1 hour\n",
      "2021-09-30 08:43:33,231 - [NOTICE] simulation.solve(818): Cycle 1/1, step 2/40: Rest for 1 hour\n",
      "2021-09-30 08:43:33,290 - [NOTICE] simulation.solve(818): Cycle 1/1, step 3/40: Discharge at C/20 for 1 hour\n",
      "2021-09-30 08:43:33,335 - [NOTICE] simulation.solve(818): Cycle 1/1, step 4/40: Rest for 1 hour\n",
      "2021-09-30 08:43:33,374 - [NOTICE] simulation.solve(818): Cycle 1/1, step 5/40: Discharge at C/20 for 1 hour\n",
      "2021-09-30 08:43:33,419 - [NOTICE] simulation.solve(818): Cycle 1/1, step 6/40: Rest for 1 hour\n",
      "2021-09-30 08:43:33,455 - [NOTICE] simulation.solve(818): Cycle 1/1, step 7/40: Discharge at C/20 for 1 hour\n",
      "2021-09-30 08:43:33,501 - [NOTICE] simulation.solve(818): Cycle 1/1, step 8/40: Rest for 1 hour\n",
      "2021-09-30 08:43:33,540 - [NOTICE] simulation.solve(818): Cycle 1/1, step 9/40: Discharge at C/20 for 1 hour\n",
      "2021-09-30 08:43:33,584 - [NOTICE] simulation.solve(818): Cycle 1/1, step 10/40: Rest for 1 hour\n",
      "2021-09-30 08:43:33,623 - [NOTICE] simulation.solve(818): Cycle 1/1, step 11/40: Discharge at C/20 for 1 hour\n",
      "2021-09-30 08:43:33,667 - [NOTICE] simulation.solve(818): Cycle 1/1, step 12/40: Rest for 1 hour\n",
      "2021-09-30 08:43:33,705 - [NOTICE] simulation.solve(818): Cycle 1/1, step 13/40: Discharge at C/20 for 1 hour\n",
      "2021-09-30 08:43:33,749 - [NOTICE] simulation.solve(818): Cycle 1/1, step 14/40: Rest for 1 hour\n",
      "2021-09-30 08:43:33,787 - [NOTICE] simulation.solve(818): Cycle 1/1, step 15/40: Discharge at C/20 for 1 hour\n",
      "2021-09-30 08:43:33,831 - [NOTICE] simulation.solve(818): Cycle 1/1, step 16/40: Rest for 1 hour\n",
      "2021-09-30 08:43:33,867 - [NOTICE] simulation.solve(818): Cycle 1/1, step 17/40: Discharge at C/20 for 1 hour\n",
      "2021-09-30 08:43:33,914 - [NOTICE] simulation.solve(818): Cycle 1/1, step 18/40: Rest for 1 hour\n",
      "2021-09-30 08:43:33,952 - [NOTICE] simulation.solve(818): Cycle 1/1, step 19/40: Discharge at C/20 for 1 hour\n",
      "2021-09-30 08:43:33,999 - [NOTICE] simulation.solve(818): Cycle 1/1, step 20/40: Rest for 1 hour\n",
      "2021-09-30 08:43:34,037 - [NOTICE] simulation.solve(818): Cycle 1/1, step 21/40: Discharge at C/20 for 1 hour\n",
      "2021-09-30 08:43:34,082 - [NOTICE] simulation.solve(818): Cycle 1/1, step 22/40: Rest for 1 hour\n",
      "2021-09-30 08:43:34,118 - [NOTICE] simulation.solve(818): Cycle 1/1, step 23/40: Discharge at C/20 for 1 hour\n",
      "2021-09-30 08:43:34,163 - [NOTICE] simulation.solve(818): Cycle 1/1, step 24/40: Rest for 1 hour\n",
      "2021-09-30 08:43:34,201 - [NOTICE] simulation.solve(818): Cycle 1/1, step 25/40: Discharge at C/20 for 1 hour\n",
      "2021-09-30 08:43:34,245 - [NOTICE] simulation.solve(818): Cycle 1/1, step 26/40: Rest for 1 hour\n",
      "2021-09-30 08:43:34,282 - [NOTICE] simulation.solve(818): Cycle 1/1, step 27/40: Discharge at C/20 for 1 hour\n",
      "2021-09-30 08:43:34,327 - [NOTICE] simulation.solve(818): Cycle 1/1, step 28/40: Rest for 1 hour\n",
      "2021-09-30 08:43:34,364 - [NOTICE] simulation.solve(818): Cycle 1/1, step 29/40: Discharge at C/20 for 1 hour\n",
      "2021-09-30 08:43:34,410 - [NOTICE] simulation.solve(818): Cycle 1/1, step 30/40: Rest for 1 hour\n",
      "2021-09-30 08:43:34,448 - [NOTICE] simulation.solve(818): Cycle 1/1, step 31/40: Discharge at C/20 for 1 hour\n",
      "2021-09-30 08:43:34,493 - [NOTICE] simulation.solve(818): Cycle 1/1, step 32/40: Rest for 1 hour\n",
      "2021-09-30 08:43:34,529 - [NOTICE] simulation.solve(818): Cycle 1/1, step 33/40: Discharge at C/20 for 1 hour\n",
      "2021-09-30 08:43:34,575 - [NOTICE] simulation.solve(818): Cycle 1/1, step 34/40: Rest for 1 hour\n",
      "2021-09-30 08:43:34,615 - [NOTICE] simulation.solve(818): Cycle 1/1, step 35/40: Discharge at C/20 for 1 hour\n",
      "2021-09-30 08:43:34,663 - [NOTICE] simulation.solve(818): Cycle 1/1, step 36/40: Rest for 1 hour\n",
      "2021-09-30 08:43:34,702 - [NOTICE] simulation.solve(818): Cycle 1/1, step 37/40: Discharge at C/20 for 1 hour\n",
      "2021-09-30 08:43:34,749 - [NOTICE] simulation.solve(818): Cycle 1/1, step 38/40: Rest for 1 hour\n",
      "2021-09-30 08:43:34,788 - [NOTICE] simulation.solve(818): Cycle 1/1, step 39/40: Discharge at C/20 for 1 hour\n",
      "2021-09-30 08:43:34,834 - [NOTICE] simulation.solve(818): Cycle 1/1, step 40/40: Rest for 1 hour\n",
      "2021-09-30 08:43:35,099 - [NOTICE] simulation.solve(913): Finish experiment simulation, took 1.963 s\n"
     ]
    },
    {
     "data": {
      "application/vnd.jupyter.widget-view+json": {
       "model_id": "7fbd13712e884d0e91d18c0ac55dca67",
       "version_major": 2,
       "version_minor": 0
      },
      "text/plain": [
       "interactive(children=(FloatSlider(value=0.0, description='t', max=40.000000000000014, step=0.40000000000000013…"
      ]
     },
     "metadata": {},
     "output_type": "display_data"
    },
    {
     "data": {
      "text/plain": [
       "<pybamm.plotting.quick_plot.QuickPlot at 0x14cbcd430>"
      ]
     },
     "execution_count": 13,
     "metadata": {},
     "output_type": "execute_result"
    }
   ],
   "source": [
    "cycle = [\n",
    "    \"Discharge at C/20 for 1 hour\",\n",
    "    \"Rest for 1 hour\",\n",
    "] * 20\n",
    "experiment = pybamm.Experiment([tuple(cycle)])\n",
    "sim = pybamm.Simulation(model, experiment=experiment, parameter_values=parameter_values)\n",
    "sim.solve()\n",
    "sim.plot([\"Terminal voltage [V]\", \"Current [A]\"])"
   ]
  },
  {
   "cell_type": "markdown",
   "metadata": {},
   "source": [
    "OCV measurements"
   ]
  },
  {
   "cell_type": "code",
   "execution_count": 14,
   "metadata": {},
   "outputs": [
    {
     "data": {
      "text/plain": [
       "[<matplotlib.lines.Line2D at 0x1506b4280>]"
      ]
     },
     "execution_count": 14,
     "metadata": {},
     "output_type": "execute_result"
    },
    {
     "data": {
      "image/png": "[encoded data removed]",
      "text/plain": [
       "<Figure size 432x288 with 1 Axes>"
      ]
     },
     "metadata": {
      "needs_background": "light"
     },
     "output_type": "display_data"
    }
   ],
   "source": [
    "sol = sim.solution\n",
    "\n",
    "def extract_ocv(step):\n",
    "    return step[\"Terminal voltage [V]\"].data[-1]\n",
    "\n",
    "ocvs = [extract_ocv(step) for i,step in enumerate(sol.cycles[0].steps) if i%2==1]\n",
    "plt.plot(np.arange(20),ocvs)"
   ]
  },
  {
   "cell_type": "markdown",
   "metadata": {},
   "source": [
    "Resistance measurements"
   ]
  },
  {
   "cell_type": "code",
   "execution_count": 15,
   "metadata": {},
   "outputs": [
    {
     "data": {
      "text/plain": [
       "[<matplotlib.lines.Line2D at 0x151ab62b0>]"
      ]
     },
     "execution_count": 15,
     "metadata": {},
     "output_type": "execute_result"
    },
    {
     "data": {
      "image/png": "[encoded data removed]",
      "text/plain": [
       "<Figure size 432x288 with 1 Axes>"
      ]
     },
     "metadata": {
      "needs_background": "light"
     },
     "output_type": "display_data"
    }
   ],
   "source": [
    "def extract_resistance(step):\n",
    "    return step[\"Local ECM resistance [Ohm]\"].data[0]\n",
    "\n",
    "Rs = [extract_resistance(step) for i,step in enumerate(sol.cycles[0].steps) if i%2==0]\n",
    "plt.plot(np.arange(20),Rs)"
   ]
  },
  {
   "cell_type": "markdown",
   "metadata": {},
   "source": [
    "## Initial SOC"
   ]
  },
  {
   "cell_type": "code",
   "execution_count": 16,
   "metadata": {},
   "outputs": [
    {
     "name": "stderr",
     "output_type": "stream",
     "text": [
      "2021-09-30 08:43:36,953 - [NOTICE] simulation.solve(784): Cycle 1/1 (25.050 ms elapsed) --------------------\n",
      "2021-09-30 08:43:36,954 - [NOTICE] simulation.solve(818): Cycle 1/1, step 1/2: Charge at 1C until 4.2V\n",
      "2021-09-30 08:43:37,028 - [NOTICE] simulation.solve(818): Cycle 1/1, step 2/2: Hold at 4.2V until C/50\n",
      "2021-09-30 08:43:37,683 - [NOTICE] simulation.solve(913): Finish experiment simulation, took 754.376 ms\n",
      "2021-09-30 08:43:38,881 - [NOTICE] simulation.solve(784): Cycle 1/1 (25.173 ms elapsed) --------------------\n",
      "2021-09-30 08:43:38,882 - [NOTICE] simulation.solve(818): Cycle 1/1, step 1/2: Charge at 1C until 4.2V\n",
      "2021-09-30 08:43:38,949 - [NOTICE] simulation.solve(818): Cycle 1/1, step 2/2: Hold at 4.2V until C/50\n",
      "2021-09-30 08:43:39,386 - [NOTICE] simulation.solve(913): Finish experiment simulation, took 530.375 ms\n",
      "2021-09-30 08:43:40,487 - [NOTICE] simulation.solve(784): Cycle 1/1 (25.352 ms elapsed) --------------------\n",
      "2021-09-30 08:43:40,488 - [NOTICE] simulation.solve(818): Cycle 1/1, step 1/2: Charge at 1C until 4.2V\n",
      "2021-09-30 08:43:40,545 - [NOTICE] simulation.solve(818): Cycle 1/1, step 2/2: Hold at 4.2V until C/50\n",
      "2021-09-30 08:43:40,987 - [NOTICE] simulation.solve(913): Finish experiment simulation, took 524.938 ms\n",
      "2021-09-30 08:43:42,116 - [NOTICE] simulation.solve(784): Cycle 1/1 (27.261 ms elapsed) --------------------\n",
      "2021-09-30 08:43:42,116 - [NOTICE] simulation.solve(818): Cycle 1/1, step 1/2: Charge at 1C until 4.2V\n",
      "2021-09-30 08:43:42,164 - [NOTICE] simulation.solve(818): Cycle 1/1, step 2/2: Hold at 4.2V until C/50\n",
      "2021-09-30 08:43:42,602 - [NOTICE] simulation.solve(913): Finish experiment simulation, took 513.891 ms\n",
      "2021-09-30 08:43:43,725 - [NOTICE] simulation.solve(784): Cycle 1/1 (25.606 ms elapsed) --------------------\n",
      "2021-09-30 08:43:43,725 - [NOTICE] simulation.solve(818): Cycle 1/1, step 1/2: Charge at 1C until 4.2V\n",
      "2021-09-30 08:43:43,772 - [NOTICE] simulation.solve(818): Cycle 1/1, step 2/2: Hold at 4.2V until C/50\n",
      "2021-09-30 08:43:44,171 - [NOTICE] simulation.solve(913): Finish experiment simulation, took 471.460 ms\n"
     ]
    },
    {
     "data": {
      "application/vnd.jupyter.widget-view+json": {
       "model_id": "63707130ab5440b89a031c04d465c689",
       "version_major": 2,
       "version_minor": 0
      },
      "text/plain": [
       "interactive(children=(FloatSlider(value=0.0, description='t', max=1.95719491538188, step=0.0195719491538188), …"
      ]
     },
     "metadata": {},
     "output_type": "display_data"
    },
    {
     "data": {
      "text/plain": [
       "<pybamm.plotting.quick_plot.QuickPlot at 0x14fb7da60>"
      ]
     },
     "execution_count": 16,
     "metadata": {},
     "output_type": "execute_result"
    }
   ],
   "source": [
    "experiment = pybamm.Experiment([(\"Charge at 1C until 4.2V\", \"Hold at 4.2V until C/50\")])\n",
    "sols = []\n",
    "init_socs = [0,0.2,0.4,0.6,0.8]\n",
    "for initial_soc in init_socs:\n",
    "  sim = pybamm.Simulation(model, parameter_values=parameter_values, experiment=experiment)\n",
    "  sol = sim.solve(initial_soc=initial_soc)\n",
    "  sols.append(sol)\n",
    "\n",
    "pybamm.dynamic_plot(sols,labels=[f\"initial soc = {x}\" for x in init_socs])"
   ]
  },
  {
   "cell_type": "markdown",
   "metadata": {},
   "source": [
    "Looking at each CV relaxation"
   ]
  },
  {
   "cell_type": "code",
   "execution_count": 17,
   "metadata": {},
   "outputs": [
    {
     "data": {
      "image/png": "[encoded data removed]",
      "text/plain": [
       "<Figure size 432x288 with 2 Axes>"
      ]
     },
     "metadata": {
      "needs_background": "light"
     },
     "output_type": "display_data"
    }
   ],
   "source": [
    "fig, ax = plt.subplots(1,2)\n",
    "\n",
    "for sol in sols:\n",
    "  cc = sol.cycles[0].steps[0]\n",
    "  cv = sol.cycles[0].steps[1]\n",
    "  t_cc = cc[\"Time [h]\"].data\n",
    "  t_cv = cv[\"Time [h]\"].data\n",
    "  ax[0].plot(t_cc-t_cv[0], cc[\"Terminal voltage [V]\"].data)\n",
    "  ax[0].set_title(\"Voltage [V] during CC\")\n",
    "  ax[1].plot(t_cv-t_cv[0], cv[\"Current [A]\"].data)\n",
    "  ax[1].set_title(\"Current [A] during CV\")\n",
    "  ax[1].legend([f\"initial soc = {x}\" for x in init_socs])"
   ]
  },
  {
   "cell_type": "code",
   "execution_count": null,
   "metadata": {},
   "outputs": [],
   "source": []
  }
 ],
 "metadata": {
  "kernelspec": {
   "display_name": "Python 3 (ipykernel)",
   "language": "python",
   "name": "python3"
  },
  "language_info": {
   "codemirror_mode": {
    "name": "ipython",
    "version": 3
   },
   "file_extension": ".py",
   "mimetype": "text/x-python",
   "name": "python",
   "nbconvert_exporter": "python",
   "pygments_lexer": "ipython3",
   "version": "3.8.8"
  },
  "toc": {
   "base_numbering": 1,
   "nav_menu": {},
   "number_sections": true,
   "sideBar": true,
   "skip_h1_title": false,
   "title_cell": "Table of Contents",
   "title_sidebar": "Contents",
   "toc_cell": false,
   "toc_position": {
    "height": "calc(100% - 180px)",
    "left": "10px",
    "top": "150px",
    "width": "288px"
   },
   "toc_section_display": true,
   "toc_window_display": true
  }
 },
 "nbformat": 4,
 "nbformat_minor": 4
}
