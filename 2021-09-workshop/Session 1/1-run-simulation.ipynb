{
 "cells": [
  {
   "cell_type": "markdown",
   "id": "cc3242dd",
   "metadata": {},
   "source": [
    "# Session 1\n",
    "## Running a simulation "
   ]
  },
  {
   "cell_type": "markdown",
   "id": "specified-syria",
   "metadata": {},
   "source": [
    "First we import pybamm"
   ]
  },
  {
   "cell_type": "code",
   "execution_count": 1,
   "id": "538e9bec",
   "metadata": {},
   "outputs": [],
   "source": [
    "import pybamm"
   ]
  },
  {
   "cell_type": "markdown",
   "id": "speaking-reception",
   "metadata": {},
   "source": [
    "We now load the model that we wish to run. For this notebook, we choose the Doyle-Fuller-Newman (DFN) model"
   ]
  },
  {
   "cell_type": "code",
   "execution_count": 2,
   "id": "592065a3",
   "metadata": {},
   "outputs": [],
   "source": [
    "model = pybamm.lithium_ion.DFN()"
   ]
  },
  {
   "cell_type": "markdown",
   "id": "fuzzy-jewel",
   "metadata": {},
   "source": [
    "We now use this model to create a PyBaMM Simulation, which is used to process and solve the model"
   ]
  },
  {
   "cell_type": "code",
   "execution_count": 3,
   "id": "7cda9d1e",
   "metadata": {},
   "outputs": [],
   "source": [
    "sim = pybamm.Simulation(model)"
   ]
  },
  {
   "cell_type": "markdown",
   "id": "shared-month",
   "metadata": {},
   "source": [
    "We can then call 'solve' on our simulation object to solve the model, passing the window of time to solve for in seconds"
   ]
  },
  {
   "cell_type": "code",
   "execution_count": 4,
   "id": "72350435",
   "metadata": {},
   "outputs": [
    {
     "data": {
      "text/plain": [
       "<pybamm.solvers.solution.Solution at 0x7f9cdfc42be0>"
      ]
     },
     "execution_count": 4,
     "metadata": {},
     "output_type": "execute_result"
    }
   ],
   "source": [
    "sim.solve([0, 3600])"
   ]
  },
  {
   "cell_type": "markdown",
   "id": "reserved-forward",
   "metadata": {},
   "source": [
    "Finally, we can call 'plot' to generate a dynamic plot of the key variables"
   ]
  },
  {
   "cell_type": "code",
   "execution_count": 5,
   "id": "adff29f7",
   "metadata": {},
   "outputs": [
    {
     "data": {
      "application/vnd.jupyter.widget-view+json": {
       "model_id": "665c1ea528ea42aeaf70b824bfe03ae3",
       "version_major": 2,
       "version_minor": 0
      },
      "text/plain": [
       "interactive(children=(FloatSlider(value=0.0, description='t', max=1.0, step=0.01), Output()), _dom_classes=('w…"
      ]
     },
     "metadata": {},
     "output_type": "display_data"
    },
    {
     "data": {
      "text/plain": [
       "<pybamm.plotting.quick_plot.QuickPlot at 0x7f9cdfc42df0>"
      ]
     },
     "execution_count": 5,
     "metadata": {},
     "output_type": "execute_result"
    }
   ],
   "source": [
    "sim.plot()"
   ]
  },
  {
   "cell_type": "markdown",
   "id": "incident-answer",
   "metadata": {},
   "source": [
    "We can pass a list of variables we wish to plot"
   ]
  },
  {
   "cell_type": "code",
   "execution_count": 6,
   "id": "d9f0c214",
   "metadata": {},
   "outputs": [
    {
     "data": {
      "application/vnd.jupyter.widget-view+json": {
       "model_id": "a7e696460c86438da3c37abba3e73ecd",
       "version_major": 2,
       "version_minor": 0
      },
      "text/plain": [
       "interactive(children=(FloatSlider(value=0.0, description='t', max=1.0, step=0.01), Output()), _dom_classes=('w…"
      ]
     },
     "metadata": {},
     "output_type": "display_data"
    },
    {
     "data": {
      "text/plain": [
       "<pybamm.plotting.quick_plot.QuickPlot at 0x7f9cdd0c3850>"
      ]
     },
     "execution_count": 6,
     "metadata": {},
     "output_type": "execute_result"
    }
   ],
   "source": [
    "sim.plot([\"Current [A]\", \"Terminal voltage [V]\"])"
   ]
  },
  {
   "cell_type": "markdown",
   "id": "running-insurance",
   "metadata": {},
   "source": [
    "To find out which variables are available in the model, we can do"
   ]
  },
  {
   "cell_type": "code",
   "execution_count": 7,
   "id": "58f32947",
   "metadata": {},
   "outputs": [
    {
     "data": {
      "text/plain": [
       "['Time',\n",
       " 'Time [s]',\n",
       " 'Time [min]',\n",
       " 'Time [h]',\n",
       " 'x',\n",
       " 'x [m]',\n",
       " 'x_n',\n",
       " 'x_n [m]',\n",
       " 'x_s',\n",
       " 'x_s [m]',\n",
       " 'x_p',\n",
       " 'x_p [m]',\n",
       " 'Sum of electrolyte reaction source terms',\n",
       " 'Sum of negative electrode electrolyte reaction source terms',\n",
       " 'Sum of positive electrode electrolyte reaction source terms',\n",
       " 'Sum of x-averaged negative electrode electrolyte reaction source terms',\n",
       " 'Sum of x-averaged positive electrode electrolyte reaction source terms',\n",
       " 'Sum of interfacial current densities',\n",
       " 'Sum of negative electrode interfacial current densities',\n",
       " 'Sum of positive electrode interfacial current densities',\n",
       " 'Sum of x-averaged negative electrode interfacial current densities',\n",
       " 'Sum of x-averaged positive electrode interfacial current densities',\n",
       " 'r_n',\n",
       " 'r_n [m]',\n",
       " 'r_p',\n",
       " 'r_p [m]',\n",
       " 'Current density variable',\n",
       " 'Total current density',\n",
       " 'Total current density [A.m-2]',\n",
       " 'Current [A]',\n",
       " 'C-rate',\n",
       " 'Discharge capacity [A.h]',\n",
       " 'Porosity',\n",
       " 'Negative electrode porosity',\n",
       " 'Separator porosity',\n",
       " 'Positive electrode porosity',\n",
       " 'X-averaged negative electrode porosity',\n",
       " 'X-averaged separator porosity',\n",
       " 'X-averaged positive electrode porosity',\n",
       " 'Leading-order porosity',\n",
       " 'Leading-order negative electrode porosity',\n",
       " 'Leading-order separator porosity',\n",
       " 'Leading-order positive electrode porosity',\n",
       " 'Leading-order x-averaged negative electrode porosity',\n",
       " 'Leading-order x-averaged separator porosity',\n",
       " 'Leading-order x-averaged positive electrode porosity',\n",
       " 'Porosity change',\n",
       " 'Negative electrode porosity change',\n",
       " 'Separator porosity change',\n",
       " 'Positive electrode porosity change',\n",
       " 'X-averaged negative electrode porosity change',\n",
       " 'X-averaged separator porosity change',\n",
       " 'X-averaged positive electrode porosity change',\n",
       " 'Leading-order x-averaged negative electrode porosity change',\n",
       " 'Leading-order x-averaged separator porosity change',\n",
       " 'Leading-order x-averaged positive electrode porosity change',\n",
       " 'Negative electrode active material volume fraction',\n",
       " 'X-averaged negative electrode active material volume fraction',\n",
       " 'Negative electrode capacity [A.h]',\n",
       " 'Negative particle radius',\n",
       " 'Negative particle radius [m]',\n",
       " 'Negative electrode surface area to volume ratio',\n",
       " 'Negative electrode surface area to volume ratio [m-1]',\n",
       " 'X-averaged negative electrode surface area to volume ratio',\n",
       " 'X-averaged negative electrode surface area to volume ratio [m-1]',\n",
       " 'Negative electrode active material volume fraction change',\n",
       " 'X-averaged negative electrode active material volume fraction change',\n",
       " 'Positive electrode active material volume fraction',\n",
       " 'X-averaged positive electrode active material volume fraction',\n",
       " 'Positive electrode capacity [A.h]',\n",
       " 'Positive particle radius',\n",
       " 'Positive particle radius [m]',\n",
       " 'Positive electrode surface area to volume ratio',\n",
       " 'Positive electrode surface area to volume ratio [m-1]',\n",
       " 'X-averaged positive electrode surface area to volume ratio',\n",
       " 'X-averaged positive electrode surface area to volume ratio [m-1]',\n",
       " 'Positive electrode active material volume fraction change',\n",
       " 'X-averaged positive electrode active material volume fraction change',\n",
       " 'Separator pressure',\n",
       " 'X-averaged separator pressure',\n",
       " 'Negative electrode transverse volume-averaged velocity',\n",
       " 'Separator transverse volume-averaged velocity',\n",
       " 'Positive electrode transverse volume-averaged velocity',\n",
       " 'Negative electrode transverse volume-averaged velocity [m.s-2]',\n",
       " 'Separator transverse volume-averaged velocity [m.s-2]',\n",
       " 'Positive electrode transverse volume-averaged velocity [m.s-2]',\n",
       " 'X-averaged negative electrode transverse volume-averaged velocity',\n",
       " 'X-averaged separator transverse volume-averaged velocity',\n",
       " 'X-averaged positive electrode transverse volume-averaged velocity',\n",
       " 'X-averaged negative electrode transverse volume-averaged velocity [m.s-2]',\n",
       " 'X-averaged separator transverse volume-averaged velocity [m.s-2]',\n",
       " 'X-averaged positive electrode transverse volume-averaged velocity [m.s-2]',\n",
       " 'Transverse volume-averaged velocity',\n",
       " 'Transverse volume-averaged velocity [m.s-2]',\n",
       " 'Negative electrode transverse volume-averaged acceleration',\n",
       " 'Separator transverse volume-averaged acceleration',\n",
       " 'Positive electrode transverse volume-averaged acceleration',\n",
       " 'Negative electrode transverse volume-averaged acceleration [m.s-2]',\n",
       " 'Separator transverse volume-averaged acceleration [m.s-2]',\n",
       " 'Positive electrode transverse volume-averaged acceleration [m.s-2]',\n",
       " 'X-averaged negative electrode transverse volume-averaged acceleration',\n",
       " 'X-averaged separator transverse volume-averaged acceleration',\n",
       " 'X-averaged positive electrode transverse volume-averaged acceleration',\n",
       " 'X-averaged negative electrode transverse volume-averaged acceleration [m.s-2]',\n",
       " 'X-averaged separator transverse volume-averaged acceleration [m.s-2]',\n",
       " 'X-averaged positive electrode transverse volume-averaged acceleration [m.s-2]',\n",
       " 'Transverse volume-averaged acceleration',\n",
       " 'Transverse volume-averaged acceleration [m.s-2]',\n",
       " 'Negative electrode volume-averaged velocity',\n",
       " 'Positive electrode volume-averaged velocity',\n",
       " 'Negative electrode volume-averaged velocity [m.s-1]',\n",
       " 'Positive electrode volume-averaged velocity [m.s-1]',\n",
       " 'Negative electrode volume-averaged acceleration',\n",
       " 'Positive electrode volume-averaged acceleration',\n",
       " 'Negative electrode volume-averaged acceleration [m.s-1]',\n",
       " 'Positive electrode volume-averaged acceleration [m.s-1]',\n",
       " 'X-averaged negative electrode volume-averaged acceleration',\n",
       " 'X-averaged positive electrode volume-averaged acceleration',\n",
       " 'X-averaged negative electrode volume-averaged acceleration [m.s-1]',\n",
       " 'X-averaged positive electrode volume-averaged acceleration [m.s-1]',\n",
       " 'Negative electrode pressure',\n",
       " 'Positive electrode pressure',\n",
       " 'X-averaged negative electrode pressure',\n",
       " 'X-averaged positive electrode pressure',\n",
       " 'Negative particle concentration',\n",
       " 'Negative particle concentration [mol.m-3]',\n",
       " 'X-averaged negative particle concentration',\n",
       " 'X-averaged negative particle concentration [mol.m-3]',\n",
       " 'R-averaged negative particle concentration',\n",
       " 'R-averaged negative particle concentration [mol.m-3]',\n",
       " 'Average negative particle concentration',\n",
       " 'Average negative particle concentration [mol.m-3]',\n",
       " 'Negative particle surface concentration',\n",
       " 'Negative particle surface concentration [mol.m-3]',\n",
       " 'X-averaged negative particle surface concentration',\n",
       " 'X-averaged negative particle surface concentration [mol.m-3]',\n",
       " 'Negative electrode extent of lithiation',\n",
       " 'X-averaged negative electrode extent of lithiation',\n",
       " 'Minimum negative particle concentration',\n",
       " 'Maximum negative particle concentration',\n",
       " 'Minimum negative particle concentration [mol.m-3]',\n",
       " 'Maximum negative particle concentration [mol.m-3]',\n",
       " 'Minimum negative particle surface concentration',\n",
       " 'Maximum negative particle surface concentration',\n",
       " 'Minimum negative particle surface concentration [mol.m-3]',\n",
       " 'Maximum negative particle surface concentration [mol.m-3]',\n",
       " 'Positive particle concentration',\n",
       " 'Positive particle concentration [mol.m-3]',\n",
       " 'X-averaged positive particle concentration',\n",
       " 'X-averaged positive particle concentration [mol.m-3]',\n",
       " 'R-averaged positive particle concentration',\n",
       " 'R-averaged positive particle concentration [mol.m-3]',\n",
       " 'Average positive particle concentration',\n",
       " 'Average positive particle concentration [mol.m-3]',\n",
       " 'Positive particle surface concentration',\n",
       " 'Positive particle surface concentration [mol.m-3]',\n",
       " 'X-averaged positive particle surface concentration',\n",
       " 'X-averaged positive particle surface concentration [mol.m-3]',\n",
       " 'Positive electrode extent of lithiation',\n",
       " 'X-averaged positive electrode extent of lithiation',\n",
       " 'Minimum positive particle concentration',\n",
       " 'Maximum positive particle concentration',\n",
       " 'Minimum positive particle concentration [mol.m-3]',\n",
       " 'Maximum positive particle concentration [mol.m-3]',\n",
       " 'Minimum positive particle surface concentration',\n",
       " 'Maximum positive particle surface concentration',\n",
       " 'Minimum positive particle surface concentration [mol.m-3]',\n",
       " 'Maximum positive particle surface concentration [mol.m-3]',\n",
       " 'Negative electrode potential',\n",
       " 'Negative electrode potential [V]',\n",
       " 'X-averaged negative electrode potential',\n",
       " 'X-averaged negative electrode potential [V]',\n",
       " 'Negative electrode ohmic losses',\n",
       " 'Negative electrode ohmic losses [V]',\n",
       " 'X-averaged negative electrode ohmic losses',\n",
       " 'X-averaged negative electrode ohmic losses [V]',\n",
       " 'Gradient of negative electrode potential',\n",
       " 'Positive electrode potential',\n",
       " 'Positive electrode potential [V]',\n",
       " 'X-averaged positive electrode potential',\n",
       " 'X-averaged positive electrode potential [V]',\n",
       " 'Positive electrode ohmic losses',\n",
       " 'Positive electrode ohmic losses [V]',\n",
       " 'X-averaged positive electrode ohmic losses',\n",
       " 'X-averaged positive electrode ohmic losses [V]',\n",
       " 'Gradient of positive electrode potential',\n",
       " 'Porosity times concentration',\n",
       " 'Negative electrode porosity times concentration',\n",
       " 'Separator porosity times concentration',\n",
       " 'Positive electrode porosity times concentration',\n",
       " 'Negative electrolyte potential',\n",
       " 'Negative electrolyte potential [V]',\n",
       " 'Separator electrolyte potential',\n",
       " 'Separator electrolyte potential [V]',\n",
       " 'Positive electrolyte potential',\n",
       " 'Positive electrolyte potential [V]',\n",
       " 'Electrolyte potential',\n",
       " 'Electrolyte potential [V]',\n",
       " 'X-averaged electrolyte potential',\n",
       " 'X-averaged electrolyte potential [V]',\n",
       " 'X-averaged negative electrolyte potential',\n",
       " 'X-averaged negative electrolyte potential [V]',\n",
       " 'X-averaged separator electrolyte potential',\n",
       " 'X-averaged separator electrolyte potential [V]',\n",
       " 'X-averaged positive electrolyte potential',\n",
       " 'X-averaged positive electrolyte potential [V]',\n",
       " 'X-averaged electrolyte overpotential',\n",
       " 'X-averaged electrolyte overpotential [V]',\n",
       " 'Gradient of negative electrolyte potential',\n",
       " 'Gradient of separator electrolyte potential',\n",
       " 'Gradient of positive electrolyte potential',\n",
       " 'Gradient of electrolyte potential',\n",
       " 'Negative current collector temperature',\n",
       " 'Negative current collector temperature [K]',\n",
       " 'X-averaged negative electrode temperature',\n",
       " 'X-averaged negative electrode temperature [K]',\n",
       " 'Negative electrode temperature',\n",
       " 'Negative electrode temperature [K]',\n",
       " 'X-averaged separator temperature',\n",
       " 'X-averaged separator temperature [K]',\n",
       " 'Separator temperature',\n",
       " 'Separator temperature [K]',\n",
       " 'X-averaged positive electrode temperature',\n",
       " 'X-averaged positive electrode temperature [K]',\n",
       " 'Positive electrode temperature',\n",
       " 'Positive electrode temperature [K]',\n",
       " 'Positive current collector temperature',\n",
       " 'Positive current collector temperature [K]',\n",
       " 'Cell temperature',\n",
       " 'Cell temperature [K]',\n",
       " 'X-averaged cell temperature',\n",
       " 'X-averaged cell temperature [K]',\n",
       " 'Volume-averaged cell temperature',\n",
       " 'Volume-averaged cell temperature [K]',\n",
       " 'Ambient temperature [K]',\n",
       " 'Ambient temperature',\n",
       " 'Inner negative electrode SEI thickness',\n",
       " 'Inner negative electrode SEI thickness [m]',\n",
       " 'X-averaged inner negative electrode SEI thickness',\n",
       " 'X-averaged inner negative electrode SEI thickness [m]',\n",
       " 'Outer negative electrode SEI thickness',\n",
       " 'Outer negative electrode SEI thickness [m]',\n",
       " 'X-averaged outer negative electrode SEI thickness',\n",
       " 'X-averaged outer negative electrode SEI thickness [m]',\n",
       " 'Negative electrode SEI thickness',\n",
       " 'Negative electrode SEI thickness [m]',\n",
       " 'X-averaged negative electrode SEI thickness',\n",
       " 'X-averaged negative electrode SEI thickness [m]',\n",
       " 'Total negative electrode SEI thickness',\n",
       " 'Total negative electrode SEI thickness [m]',\n",
       " 'X-averaged total negative electrode SEI thickness',\n",
       " 'X-averaged total negative electrode SEI thickness [m]',\n",
       " 'X-averaged negative electrode resistance [Ohm.m2]',\n",
       " 'Inner negative electrode SEI concentration [mol.m-3]',\n",
       " 'X-averaged inner negative electrode SEI concentration [mol.m-3]',\n",
       " 'Outer negative electrode SEI concentration [mol.m-3]',\n",
       " 'X-averaged outer negative electrode SEI concentration [mol.m-3]',\n",
       " 'Negative SEI concentration [mol.m-3]',\n",
       " 'X-averaged negative electrode SEI concentration [mol.m-3]',\n",
       " 'Loss of lithium to negative electrode SEI [mol]',\n",
       " 'Loss of capacity to negative electrode SEI [A.h]',\n",
       " 'Inner negative electrode SEI interfacial current density',\n",
       " 'Inner negative electrode SEI interfacial current density [A.m-2]',\n",
       " 'X-averaged inner negative electrode SEI interfacial current density',\n",
       " 'X-averaged inner negative electrode SEI interfacial current density [A.m-2]',\n",
       " 'Outer negative electrode SEI interfacial current density',\n",
       " 'Outer negative electrode SEI interfacial current density [A.m-2]',\n",
       " 'X-averaged outer negative electrode SEI interfacial current density',\n",
       " 'X-averaged outer negative electrode SEI interfacial current density [A.m-2]',\n",
       " 'Negative electrode SEI interfacial current density',\n",
       " 'Negative electrode SEI interfacial current density [A.m-2]',\n",
       " 'X-averaged negative electrode SEI interfacial current density',\n",
       " 'X-averaged negative electrode SEI interfacial current density [A.m-2]',\n",
       " 'Inner positive electrode SEI thickness',\n",
       " 'Inner positive electrode SEI thickness [m]',\n",
       " 'X-averaged inner positive electrode SEI thickness',\n",
       " 'X-averaged inner positive electrode SEI thickness [m]',\n",
       " 'Outer positive electrode SEI thickness',\n",
       " 'Outer positive electrode SEI thickness [m]',\n",
       " 'X-averaged outer positive electrode SEI thickness',\n",
       " 'X-averaged outer positive electrode SEI thickness [m]',\n",
       " 'Positive electrode SEI thickness',\n",
       " 'Positive electrode SEI thickness [m]',\n",
       " 'X-averaged positive electrode SEI thickness',\n",
       " 'X-averaged positive electrode SEI thickness [m]',\n",
       " 'Total positive electrode SEI thickness',\n",
       " 'Total positive electrode SEI thickness [m]',\n",
       " 'X-averaged total positive electrode SEI thickness',\n",
       " 'X-averaged total positive electrode SEI thickness [m]',\n",
       " 'X-averaged positive electrode resistance [Ohm.m2]',\n",
       " 'Inner positive electrode SEI concentration [mol.m-3]',\n",
       " 'X-averaged inner positive electrode SEI concentration [mol.m-3]',\n",
       " 'Outer positive electrode SEI concentration [mol.m-3]',\n",
       " 'X-averaged outer positive electrode SEI concentration [mol.m-3]',\n",
       " 'Positive SEI concentration [mol.m-3]',\n",
       " 'X-averaged positive electrode SEI concentration [mol.m-3]',\n",
       " 'Loss of lithium to positive electrode SEI [mol]',\n",
       " 'Loss of capacity to positive electrode SEI [A.h]',\n",
       " 'Inner positive electrode SEI interfacial current density',\n",
       " 'Inner positive electrode SEI interfacial current density [A.m-2]',\n",
       " 'X-averaged inner positive electrode SEI interfacial current density',\n",
       " 'X-averaged inner positive electrode SEI interfacial current density [A.m-2]',\n",
       " 'Outer positive electrode SEI interfacial current density',\n",
       " 'Outer positive electrode SEI interfacial current density [A.m-2]',\n",
       " 'X-averaged outer positive electrode SEI interfacial current density',\n",
       " 'X-averaged outer positive electrode SEI interfacial current density [A.m-2]',\n",
       " 'Positive electrode SEI interfacial current density',\n",
       " 'Positive electrode SEI interfacial current density [A.m-2]',\n",
       " 'X-averaged positive electrode SEI interfacial current density',\n",
       " 'X-averaged positive electrode SEI interfacial current density [A.m-2]',\n",
       " 'Negative electrode lithium plating concentration',\n",
       " 'Negative electrode lithium plating concentration [mol.m-3]',\n",
       " 'X-averaged negative electrode lithium plating concentration',\n",
       " 'X-averaged negative electrode lithium plating concentration [mol.m-3]',\n",
       " 'Negative electrode lithium plating thickness',\n",
       " 'Negative electrode lithium plating thickness [m]',\n",
       " 'X-averaged negative electrode lithium plating thickness [m]',\n",
       " 'Loss of lithium to negative electrode lithium plating [mol]',\n",
       " 'Loss of capacity to negative electrode lithium plating [A.h]',\n",
       " 'Negative electrode lithium plating interfacial current density',\n",
       " 'Negative electrode lithium plating interfacial current density [A.m-2]',\n",
       " 'X-averaged negative electrode lithium plating interfacial current density',\n",
       " 'X-averaged negative electrode lithium plating interfacial current density [A.m-2]',\n",
       " 'Positive electrode lithium plating concentration',\n",
       " 'Positive electrode lithium plating concentration [mol.m-3]',\n",
       " 'X-averaged positive electrode lithium plating concentration',\n",
       " 'X-averaged positive electrode lithium plating concentration [mol.m-3]',\n",
       " 'Positive electrode lithium plating thickness',\n",
       " 'Positive electrode lithium plating thickness [m]',\n",
       " 'X-averaged positive electrode lithium plating thickness [m]',\n",
       " 'Loss of lithium to positive electrode lithium plating [mol]',\n",
       " 'Loss of capacity to positive electrode lithium plating [A.h]',\n",
       " 'Positive electrode lithium plating interfacial current density',\n",
       " 'Positive electrode lithium plating interfacial current density [A.m-2]',\n",
       " 'X-averaged positive electrode lithium plating interfacial current density',\n",
       " 'X-averaged positive electrode lithium plating interfacial current density [A.m-2]',\n",
       " 'Electrolyte tortuosity',\n",
       " 'Negative electrolyte tortuosity',\n",
       " 'Positive electrolyte tortuosity',\n",
       " 'X-averaged negative electrolyte tortuosity',\n",
       " 'X-averaged positive electrolyte tortuosity',\n",
       " 'Separator tortuosity',\n",
       " 'X-averaged separator tortuosity',\n",
       " 'Electrode tortuosity',\n",
       " 'Negative electrode tortuosity',\n",
       " 'Positive electrode tortuosity',\n",
       " 'X-averaged negative electrode tortuosity',\n",
       " 'X-averaged positive electrode tortuosity',\n",
       " 'Separator volume-averaged velocity',\n",
       " 'Separator volume-averaged velocity [m.s-1]',\n",
       " 'Separator volume-averaged acceleration',\n",
       " 'Separator volume-averaged acceleration [m.s-1]',\n",
       " 'X-averaged separator volume-averaged acceleration',\n",
       " 'X-averaged separator volume-averaged acceleration [m.s-1]',\n",
       " 'Volume-averaged velocity',\n",
       " 'Volume-averaged velocity [m.s-1]',\n",
       " 'Volume-averaged acceleration',\n",
       " 'X-averaged volume-averaged acceleration',\n",
       " 'Volume-averaged acceleration [m.s-1]',\n",
       " 'X-averaged volume-averaged acceleration [m.s-1]',\n",
       " 'Pressure',\n",
       " 'Negative electrode surface potential difference',\n",
       " 'X-averaged negative electrode surface potential difference',\n",
       " 'Negative electrode surface potential difference [V]',\n",
       " 'X-averaged negative electrode surface potential difference [V]',\n",
       " 'Positive electrode surface potential difference',\n",
       " 'X-averaged positive electrode surface potential difference',\n",
       " 'Positive electrode surface potential difference [V]',\n",
       " 'X-averaged positive electrode surface potential difference [V]',\n",
       " 'Negative particle flux',\n",
       " 'X-averaged negative particle flux',\n",
       " 'Negative electrode SOC',\n",
       " 'Negative electrode volume-averaged concentration',\n",
       " 'Negative electrode volume-averaged concentration [mol.m-3]',\n",
       " 'Total lithium in negative electrode [mol]',\n",
       " 'Positive particle flux',\n",
       " 'X-averaged positive particle flux',\n",
       " 'Positive electrode SOC',\n",
       " 'Positive electrode volume-averaged concentration',\n",
       " 'Positive electrode volume-averaged concentration [mol.m-3]',\n",
       " 'Total lithium in positive electrode [mol]',\n",
       " 'Negative electrode effective conductivity',\n",
       " 'Negative electrode current density',\n",
       " 'Negative electrode current density [A.m-2]',\n",
       " 'Positive electrode effective conductivity',\n",
       " 'Positive electrode current density',\n",
       " 'Positive electrode current density [A.m-2]',\n",
       " 'Electrode current density',\n",
       " 'Electrolyte concentration',\n",
       " 'Electrolyte concentration [mol.m-3]',\n",
       " 'Electrolyte concentration [Molar]',\n",
       " 'X-averaged electrolyte concentration',\n",
       " 'X-averaged electrolyte concentration [mol.m-3]',\n",
       " 'X-averaged electrolyte concentration [Molar]',\n",
       " 'Negative electrolyte concentration',\n",
       " 'Negative electrolyte concentration [mol.m-3]',\n",
       " 'Negative electrolyte concentration [Molar]',\n",
       " 'Separator electrolyte concentration',\n",
       " 'Separator electrolyte concentration [mol.m-3]',\n",
       " 'Separator electrolyte concentration [Molar]',\n",
       " 'Positive electrolyte concentration',\n",
       " 'Positive electrolyte concentration [mol.m-3]',\n",
       " 'Positive electrolyte concentration [Molar]',\n",
       " 'X-averaged negative electrolyte concentration',\n",
       " 'X-averaged negative electrolyte concentration [mol.m-3]',\n",
       " 'X-averaged separator electrolyte concentration',\n",
       " 'X-averaged separator electrolyte concentration [mol.m-3]',\n",
       " 'X-averaged positive electrolyte concentration',\n",
       " 'X-averaged positive electrolyte concentration [mol.m-3]',\n",
       " 'Electrolyte current density',\n",
       " 'Electrolyte current density [A.m-2]',\n",
       " 'X-averaged concentration overpotential',\n",
       " 'X-averaged electrolyte ohmic losses',\n",
       " 'X-averaged concentration overpotential [V]',\n",
       " 'X-averaged electrolyte ohmic losses [V]',\n",
       " 'Ohmic heating',\n",
       " 'Ohmic heating [W.m-3]',\n",
       " 'X-averaged Ohmic heating',\n",
       " 'X-averaged Ohmic heating [W.m-3]',\n",
       " 'Volume-averaged Ohmic heating',\n",
       " 'Volume-averaged Ohmic heating [W.m-3]',\n",
       " 'Irreversible electrochemical heating',\n",
       " 'Irreversible electrochemical heating [W.m-3]',\n",
       " 'X-averaged irreversible electrochemical heating',\n",
       " 'X-averaged irreversible electrochemical heating [W.m-3]',\n",
       " 'Volume-averaged irreversible electrochemical heating',\n",
       " 'Volume-averaged irreversible electrochemical heating[W.m-3]',\n",
       " 'Reversible heating',\n",
       " 'Reversible heating [W.m-3]',\n",
       " 'X-averaged reversible heating',\n",
       " 'X-averaged reversible heating [W.m-3]',\n",
       " 'Volume-averaged reversible heating',\n",
       " 'Volume-averaged reversible heating [W.m-3]',\n",
       " 'Total heating',\n",
       " 'Total heating [W.m-3]',\n",
       " 'X-averaged total heating',\n",
       " 'X-averaged total heating [W.m-3]',\n",
       " 'Volume-averaged total heating',\n",
       " 'Volume-averaged total heating [W.m-3]',\n",
       " 'Negative current collector potential',\n",
       " 'Negative current collector potential [V]',\n",
       " 'Current collector current density',\n",
       " 'Current collector current density [A.m-2]',\n",
       " 'Leading-order current collector current density',\n",
       " 'SEI interfacial current density',\n",
       " 'SEI interfacial current density [A.m-2]',\n",
       " 'SEI interfacial current density per volume [A.m-3]',\n",
       " 'Negative electrode lithium plating reaction overpotential',\n",
       " 'X-averaged negative electrode lithium plating reaction overpotential',\n",
       " 'Negative electrode lithium plating reaction overpotential [V]',\n",
       " 'X-averaged negative electrode lithium plating reaction overpotential [V]',\n",
       " 'Lithium plating interfacial current density',\n",
       " 'Lithium plating interfacial current density [A.m-2]',\n",
       " 'Lithium plating interfacial current density per volume [A.m-3]',\n",
       " 'Positive electrode lithium plating reaction overpotential',\n",
       " 'X-averaged positive electrode lithium plating reaction overpotential',\n",
       " 'Positive electrode lithium plating reaction overpotential [V]',\n",
       " 'X-averaged positive electrode lithium plating reaction overpotential [V]',\n",
       " 'Negative electrode interfacial current density',\n",
       " 'X-averaged negative electrode interfacial current density',\n",
       " 'Negative electrode interfacial current density [A.m-2]',\n",
       " 'X-averaged negative electrode interfacial current density [A.m-2]',\n",
       " 'Negative electrode interfacial current density per volume [A.m-3]',\n",
       " 'X-averaged negative electrode interfacial current density per volume [A.m-3]',\n",
       " 'X-averaged negative electrode total interfacial current density',\n",
       " 'X-averaged negative electrode total interfacial current density [A.m-2]',\n",
       " 'X-averaged negative electrode total interfacial current density per volume [A.m-3]',\n",
       " 'Negative electrode exchange current density',\n",
       " 'X-averaged negative electrode exchange current density',\n",
       " 'Negative electrode exchange current density [A.m-2]',\n",
       " 'X-averaged negative electrode exchange current density [A.m-2]',\n",
       " 'Negative electrode exchange current density per volume [A.m-3]',\n",
       " 'X-averaged negative electrode exchange current density per volume [A.m-3]',\n",
       " 'Negative electrode reaction overpotential',\n",
       " 'X-averaged negative electrode reaction overpotential',\n",
       " 'Negative electrode reaction overpotential [V]',\n",
       " 'X-averaged negative electrode reaction overpotential [V]',\n",
       " 'Negative electrode open circuit potential',\n",
       " 'Negative electrode open circuit potential [V]',\n",
       " 'X-averaged negative electrode open circuit potential',\n",
       " 'X-averaged negative electrode open circuit potential [V]',\n",
       " 'Negative electrode entropic change',\n",
       " 'X-averaged negative electrode entropic change',\n",
       " 'Negative electrode SEI film overpotential',\n",
       " 'X-averaged negative electrode SEI film overpotential',\n",
       " 'Negative electrode SEI film overpotential [V]',\n",
       " 'X-averaged negative electrode SEI film overpotential [V]',\n",
       " 'Positive electrode interfacial current density',\n",
       " 'X-averaged positive electrode interfacial current density',\n",
       " 'Positive electrode interfacial current density [A.m-2]',\n",
       " 'X-averaged positive electrode interfacial current density [A.m-2]',\n",
       " 'Positive electrode interfacial current density per volume [A.m-3]',\n",
       " 'X-averaged positive electrode interfacial current density per volume [A.m-3]',\n",
       " 'X-averaged positive electrode total interfacial current density',\n",
       " 'X-averaged positive electrode total interfacial current density [A.m-2]',\n",
       " 'X-averaged positive electrode total interfacial current density per volume [A.m-3]',\n",
       " 'Positive electrode exchange current density',\n",
       " 'X-averaged positive electrode exchange current density',\n",
       " 'Positive electrode exchange current density [A.m-2]',\n",
       " 'X-averaged positive electrode exchange current density [A.m-2]',\n",
       " 'Positive electrode exchange current density per volume [A.m-3]',\n",
       " 'X-averaged positive electrode exchange current density per volume [A.m-3]',\n",
       " 'Positive electrode reaction overpotential',\n",
       " 'X-averaged positive electrode reaction overpotential',\n",
       " 'Positive electrode reaction overpotential [V]',\n",
       " 'X-averaged positive electrode reaction overpotential [V]',\n",
       " 'Positive electrode open circuit potential',\n",
       " 'Positive electrode open circuit potential [V]',\n",
       " 'X-averaged positive electrode open circuit potential',\n",
       " 'X-averaged positive electrode open circuit potential [V]',\n",
       " 'Positive electrode entropic change',\n",
       " 'X-averaged positive electrode entropic change',\n",
       " 'Positive electrode SEI film overpotential',\n",
       " 'X-averaged positive electrode SEI film overpotential',\n",
       " 'Positive electrode SEI film overpotential [V]',\n",
       " 'X-averaged positive electrode SEI film overpotential [V]',\n",
       " 'Interfacial current density',\n",
       " 'Interfacial current density [A.m-2]',\n",
       " 'Interfacial current density per volume [A.m-3]',\n",
       " 'Exchange current density',\n",
       " 'Exchange current density [A.m-2]',\n",
       " 'Exchange current density per volume [A.m-3]',\n",
       " 'Negative electrode oxygen interfacial current density',\n",
       " 'X-averaged negative electrode oxygen interfacial current density',\n",
       " 'Negative electrode oxygen interfacial current density [A.m-2]',\n",
       " 'X-averaged negative electrode oxygen interfacial current density [A.m-2]',\n",
       " 'Negative electrode oxygen interfacial current density per volume [A.m-3]',\n",
       " 'X-averaged negative electrode oxygen interfacial current density per volume [A.m-3]',\n",
       " 'Negative electrode oxygen exchange current density',\n",
       " 'X-averaged negative electrode oxygen exchange current density',\n",
       " 'Negative electrode oxygen exchange current density [A.m-2]',\n",
       " 'X-averaged negative electrode oxygen exchange current density [A.m-2]',\n",
       " 'Negative electrode oxygen exchange current density per volume [A.m-3]',\n",
       " 'X-averaged negative electrode oxygen exchange current density per volume [A.m-3]',\n",
       " 'Negative electrode oxygen reaction overpotential',\n",
       " 'X-averaged negative electrode oxygen reaction overpotential',\n",
       " 'Negative electrode oxygen reaction overpotential [V]',\n",
       " 'X-averaged negative electrode oxygen reaction overpotential [V]',\n",
       " 'Negative electrode oxygen open circuit potential',\n",
       " 'Negative electrode oxygen open circuit potential [V]',\n",
       " 'X-averaged negative electrode oxygen open circuit potential',\n",
       " 'X-averaged negative electrode oxygen open circuit potential [V]',\n",
       " 'Positive electrode oxygen interfacial current density',\n",
       " 'X-averaged positive electrode oxygen interfacial current density',\n",
       " 'Positive electrode oxygen interfacial current density [A.m-2]',\n",
       " 'X-averaged positive electrode oxygen interfacial current density [A.m-2]',\n",
       " 'Positive electrode oxygen interfacial current density per volume [A.m-3]',\n",
       " 'X-averaged positive electrode oxygen interfacial current density per volume [A.m-3]',\n",
       " 'Positive electrode oxygen exchange current density',\n",
       " 'X-averaged positive electrode oxygen exchange current density',\n",
       " 'Positive electrode oxygen exchange current density [A.m-2]',\n",
       " 'X-averaged positive electrode oxygen exchange current density [A.m-2]',\n",
       " 'Positive electrode oxygen exchange current density per volume [A.m-3]',\n",
       " 'X-averaged positive electrode oxygen exchange current density per volume [A.m-3]',\n",
       " 'Positive electrode oxygen reaction overpotential',\n",
       " 'X-averaged positive electrode oxygen reaction overpotential',\n",
       " 'Positive electrode oxygen reaction overpotential [V]',\n",
       " 'X-averaged positive electrode oxygen reaction overpotential [V]',\n",
       " 'Positive electrode oxygen open circuit potential',\n",
       " 'Positive electrode oxygen open circuit potential [V]',\n",
       " 'X-averaged positive electrode oxygen open circuit potential',\n",
       " 'X-averaged positive electrode oxygen open circuit potential [V]',\n",
       " 'Oxygen interfacial current density',\n",
       " 'Oxygen interfacial current density [A.m-2]',\n",
       " 'Oxygen interfacial current density per volume [A.m-3]',\n",
       " 'Oxygen exchange current density',\n",
       " 'Oxygen exchange current density [A.m-2]',\n",
       " 'Oxygen exchange current density per volume [A.m-3]',\n",
       " 'Positive current collector potential',\n",
       " 'Positive current collector potential [V]',\n",
       " 'Local voltage',\n",
       " 'Local voltage [V]',\n",
       " 'Terminal voltage',\n",
       " 'Terminal voltage [V]',\n",
       " 'Electrolyte flux',\n",
       " 'Electrolyte flux [mol.m-2.s-1]',\n",
       " 'Total lithium in electrolyte [mol]',\n",
       " 'X-averaged open circuit voltage',\n",
       " 'Measured open circuit voltage',\n",
       " 'X-averaged open circuit voltage [V]',\n",
       " 'Measured open circuit voltage [V]',\n",
       " 'X-averaged reaction overpotential',\n",
       " 'X-averaged reaction overpotential [V]',\n",
       " 'X-averaged SEI film overpotential',\n",
       " 'X-averaged SEI film overpotential [V]',\n",
       " 'X-averaged solid phase ohmic losses',\n",
       " 'X-averaged solid phase ohmic losses [V]',\n",
       " 'X-averaged battery open circuit voltage [V]',\n",
       " 'Measured battery open circuit voltage [V]',\n",
       " 'X-averaged battery reaction overpotential [V]',\n",
       " 'X-averaged battery solid phase ohmic losses [V]',\n",
       " 'X-averaged battery electrolyte ohmic losses [V]',\n",
       " 'X-averaged battery concentration overpotential [V]',\n",
       " 'Battery voltage [V]',\n",
       " 'Change in measured open circuit voltage',\n",
       " 'Change in measured open circuit voltage [V]',\n",
       " 'Local ECM resistance',\n",
       " 'Local ECM resistance [Ohm]',\n",
       " 'Terminal power [W]',\n",
       " 'LAM_ne [%]',\n",
       " 'LAM_pe [%]',\n",
       " 'LLI [%]',\n",
       " 'Loss of active material in negative electrode [%]',\n",
       " 'Loss of active material in positive electrode [%]',\n",
       " 'Loss of lithium inventory [%]',\n",
       " 'Loss of lithium inventory, including electrolyte [%]',\n",
       " 'Total lithium [mol]',\n",
       " 'Total lithium in particles [mol]',\n",
       " 'Total lithium lost [mol]',\n",
       " 'Total lithium lost from particles [mol]',\n",
       " 'Total lithium lost from electrolyte [mol]',\n",
       " 'Total lithium lost to side reactions [mol]',\n",
       " 'Total capacity lost to side reactions [A.h]']"
      ]
     },
     "execution_count": 7,
     "metadata": {},
     "output_type": "execute_result"
    }
   ],
   "source": [
    "model.variable_names()"
   ]
  },
  {
   "cell_type": "markdown",
   "id": "returning-sunday",
   "metadata": {},
   "source": [
    "This returns an extremely long list! We can also search for variables we might be interested in"
   ]
  },
  {
   "cell_type": "code",
   "execution_count": 8,
   "id": "57bd3bff",
   "metadata": {},
   "outputs": [
    {
     "name": "stdout",
     "output_type": "stream",
     "text": [
      "Electrolyte current density\n",
      "Electrolyte current density [A.m-2]\n"
     ]
    }
   ],
   "source": [
    "model.variables.search(\"electrolyte current\")"
   ]
  },
  {
   "cell_type": "markdown",
   "id": "aboriginal-aspect",
   "metadata": {},
   "source": [
    "You will notice that most variables appear more than once. This is because models in PyBaMM are posed in dimensionless form, so the variables have a dimensional (with \\[units\\]) and dimensionless version. \n",
    "\n",
    "We can pass a nested list of variables to plot more than one variable on the same axes"
   ]
  },
  {
   "cell_type": "code",
   "execution_count": 9,
   "id": "3ca7f39c",
   "metadata": {},
   "outputs": [
    {
     "data": {
      "application/vnd.jupyter.widget-view+json": {
       "model_id": "8f4ac3e0f2904d43b82f3cd94dc99fa2",
       "version_major": 2,
       "version_minor": 0
      },
      "text/plain": [
       "interactive(children=(FloatSlider(value=0.0, description='t', max=1.0, step=0.01), Output()), _dom_classes=('w…"
      ]
     },
     "metadata": {},
     "output_type": "display_data"
    },
    {
     "data": {
      "text/plain": [
       "<pybamm.plotting.quick_plot.QuickPlot at 0x7f9cdcfa1e50>"
      ]
     },
     "execution_count": 9,
     "metadata": {},
     "output_type": "execute_result"
    }
   ],
   "source": [
    "sim.plot([[\"Electrolyte current density\", \"Electrode current density\"], \"Terminal voltage [V]\"])"
   ]
  },
  {
   "cell_type": "markdown",
   "id": "european-semester",
   "metadata": {},
   "source": [
    "You might want to create your own custom plot instead of plotting the solution using PyBaMMM's built-in plotting, or you might want to work with the solution data directly. First we will extract the solution from the simulation "
   ]
  },
  {
   "cell_type": "code",
   "execution_count": 10,
   "id": "d5e15cfd",
   "metadata": {},
   "outputs": [],
   "source": [
    "solution = sim.solution"
   ]
  },
  {
   "cell_type": "markdown",
   "id": "opposite-halifax",
   "metadata": {},
   "source": [
    "We can then access the solution like a python dictionary to get the variables we are interested in. For example, to get time series data for the voltage we can do   "
   ]
  },
  {
   "cell_type": "code",
   "execution_count": 11,
   "id": "fe20dc36",
   "metadata": {},
   "outputs": [
    {
     "data": {
      "text/plain": [
       "array([3.77161552, 3.75501849, 3.7480021 , 3.74283899, 3.73829635,\n",
       "       3.73402627, 3.72991827, 3.72593474, 3.72206272, 3.71829813,\n",
       "       3.71464002, 3.71108777, 3.70764002, 3.70429359, 3.70104288,\n",
       "       3.69787967, 3.69479461, 3.69178033, 3.68883328, 3.68595333,\n",
       "       3.68314128, 3.6803981 , 3.67772429, 3.67511964, 3.67258328,\n",
       "       3.67011393, 3.6677093 , 3.66536735, 3.66308519, 3.66085959,\n",
       "       3.65868708, 3.65656379, 3.65448497, 3.652446  , 3.65044107,\n",
       "       3.64846326, 3.64650431, 3.64455375, 3.64259725, 3.64061492,\n",
       "       3.63857659, 3.63643562, 3.6341222 , 3.63155561, 3.62870179,\n",
       "       3.62563188, 3.62250095, 3.61947666, 3.61668481, 3.6141869 ,\n",
       "       3.61198489, 3.61004366, 3.60831537, 3.606755  , 3.60532649,\n",
       "       3.60400385, 3.6027688 , 3.60160921, 3.6005173 , 3.59948783,\n",
       "       3.59851548, 3.59759156, 3.59670003, 3.59581837, 3.59492511,\n",
       "       3.59400668, 3.59305675, 3.59207461, 3.59105989, 3.59001312,\n",
       "       3.58893439, 3.58782331, 3.58667831, 3.58549734, 3.58427552,\n",
       "       3.58300777, 3.58168589, 3.58029862, 3.57883068, 3.5772617 ,\n",
       "       3.57556514, 3.57370792, 3.57164842, 3.56933526, 3.56670283,\n",
       "       3.56366474, 3.56010608, 3.55588471, 3.55083712, 3.54476959,\n",
       "       3.53741625, 3.52835689, 3.51688569, 3.50180909, 3.48121927,\n",
       "       3.45237192, 3.41174435, 3.35491472, 3.2761128 , 3.16787177])"
      ]
     },
     "execution_count": 11,
     "metadata": {},
     "output_type": "execute_result"
    }
   ],
   "source": [
    "solution[\"Terminal voltage [V]\"].data"
   ]
  },
  {
   "cell_type": "markdown",
   "id": "parental-submission",
   "metadata": {},
   "source": [
    "which returns 1D array. We can get the data for a variable that depends on space in the same way"
   ]
  },
  {
   "cell_type": "code",
   "execution_count": 12,
   "id": "e35277e9",
   "metadata": {},
   "outputs": [
    {
     "data": {
      "text/plain": [
       "array([[0.        , 0.        , 0.        , ..., 0.        , 0.        ,\n",
       "        0.        ],\n",
       "       [0.03438215, 0.03035694, 0.02873254, ..., 0.0620573 , 0.06066966,\n",
       "        0.05945911],\n",
       "       [0.06895148, 0.06092774, 0.05769945, ..., 0.12378815, 0.12105345,\n",
       "        0.11866727],\n",
       "       ...,\n",
       "       [0.09566967, 0.09261763, 0.09226255, ..., 0.12868194, 0.1217314 ,\n",
       "        0.11598656],\n",
       "       [0.04783522, 0.04629582, 0.04611501, ..., 0.06444211, 0.06094058,\n",
       "        0.05804759],\n",
       "       [0.        , 0.        , 0.        , ..., 0.        , 0.        ,\n",
       "        0.        ]])"
      ]
     },
     "execution_count": 12,
     "metadata": {},
     "output_type": "execute_result"
    }
   ],
   "source": [
    "solution[\"Electrolyte current density\"].data"
   ]
  },
  {
   "cell_type": "markdown",
   "id": "considered-processor",
   "metadata": {},
   "source": [
    "This returns a 2D array with the electrolyte current density as a function of position at each time in the simulation. \n",
    "\n",
    "We can also save solution objects or data (see the Getting Started guides for more information). For example, we can save time series data to csv by doing"
   ]
  },
  {
   "cell_type": "code",
   "execution_count": 13,
   "id": "10f7e857",
   "metadata": {},
   "outputs": [],
   "source": [
    "solution.save_data(\"dfn_data.csv\", [\"Time [s]\", \"Terminal voltage [V]\"])"
   ]
  },
  {
   "cell_type": "markdown",
   "id": "nasty-centre",
   "metadata": {},
   "source": [
    "Now that we have the data we can create a custom plot using our favourite plotting tools"
   ]
  },
  {
   "cell_type": "code",
   "execution_count": 14,
   "id": "6c1c8274",
   "metadata": {},
   "outputs": [
    {
     "data": {
      "text/plain": [
       "Text(0, 0.5, 'Voltage [V]')"
      ]
     },
     "execution_count": 14,
     "metadata": {},
     "output_type": "execute_result"
    },
    {
     "data": {
      "image/png": "[encoded data removed]",
      "text/plain": [
       "<Figure size 432x288 with 1 Axes>"
      ]
     },
     "metadata": {
      "needs_background": "light"
     },
     "output_type": "display_data"
    }
   ],
   "source": [
    "import matplotlib.pyplot as plt\n",
    "\n",
    "fig, ax = plt.subplots()\n",
    "dcap = solution[\"Discharge capacity [A.h]\"].data\n",
    "voltage = solution[\"Terminal voltage [V]\"].data\n",
    "ax.plot(dcap, voltage)\n",
    "ax.set_xlabel(\"Discharge capacity [Ah]\")    \n",
    "ax.set_ylabel(\"Voltage [V]\")"
   ]
  },
  {
   "cell_type": "code",
   "execution_count": null,
   "id": "3355eecc",
   "metadata": {},
   "outputs": [],
   "source": []
  }
 ],
 "metadata": {
  "kernelspec": {
   "display_name": "Python 3",
   "language": "python",
   "name": "python3"
  },
  "language_info": {
   "codemirror_mode": {
    "name": "ipython",
    "version": 3
   },
   "file_extension": ".py",
   "mimetype": "text/x-python",
   "name": "python",
   "nbconvert_exporter": "python",
   "pygments_lexer": "ipython3",
   "version": "3.8.8"
  }
 },
 "nbformat": 4,
 "nbformat_minor": 5
}
