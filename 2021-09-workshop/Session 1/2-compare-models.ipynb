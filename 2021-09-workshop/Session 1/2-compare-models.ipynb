{
 "cells": [
  {
   "cell_type": "markdown",
   "id": "global-classics",
   "metadata": {},
   "source": [
    "# Session 1\n",
    "## Comparing models\n",
    "\n",
    "As before, we being by importing pybamm"
   ]
  },
  {
   "cell_type": "code",
   "execution_count": 1,
   "id": "modified-magnet",
   "metadata": {},
   "outputs": [],
   "source": [
    "import pybamm"
   ]
  },
  {
   "cell_type": "markdown",
   "id": "laden-satisfaction",
   "metadata": {},
   "source": [
    "We then create a list of all the models we wish to solve"
   ]
  },
  {
   "cell_type": "code",
   "execution_count": 4,
   "id": "b4917899",
   "metadata": {},
   "outputs": [],
   "source": [
    "models = [\n",
    "    pybamm.lithium_ion.SPM(),\n",
    "    pybamm.lithium_ion.SPMe(),\n",
    "    pybamm.lithium_ion.DFN(),\n",
    "]"
   ]
  },
  {
   "cell_type": "markdown",
   "id": "separate-season",
   "metadata": {},
   "source": [
    "Now we can loop over the list, creating and solving simulations as we go. The solutions are stored in the list `sols`"
   ]
  },
  {
   "cell_type": "code",
   "execution_count": 5,
   "id": "b84b6c9b",
   "metadata": {},
   "outputs": [],
   "source": [
    "sols = []\n",
    "for model in models:\n",
    "    sim = pybamm.Simulation(model)\n",
    "    sol = sim.solve([0, 3600])\n",
    "    sols.append(sol)"
   ]
  },
  {
   "cell_type": "code",
   "execution_count": 6,
   "id": "530faa19",
   "metadata": {},
   "outputs": [
    {
     "data": {
      "text/plain": [
       "[<pybamm.solvers.solution.Solution at 0x7fbbc19cf6a0>,\n",
       " <pybamm.solvers.solution.Solution at 0x7fbbc0e88580>,\n",
       " <pybamm.solvers.solution.Solution at 0x7fbbc2114820>]"
      ]
     },
     "execution_count": 6,
     "metadata": {},
     "output_type": "execute_result"
    }
   ],
   "source": [
    "sols"
   ]
  },
  {
   "cell_type": "markdown",
   "id": "computational-spending",
   "metadata": {},
   "source": [
    "We can now pass our list of simulations to the dynamic plot method, which will plot the different outputs in the same figure\n"
   ]
  },
  {
   "cell_type": "code",
   "execution_count": 7,
   "id": "e0609b44",
   "metadata": {},
   "outputs": [
    {
     "data": {
      "application/vnd.jupyter.widget-view+json": {
       "model_id": "6a2a719f860746b49cb1c25c5dc8ef43",
       "version_major": 2,
       "version_minor": 0
      },
      "text/plain": [
       "interactive(children=(FloatSlider(value=0.0, description='t', max=1.0, step=0.01), Output()), _dom_classes=('w…"
      ]
     },
     "metadata": {},
     "output_type": "display_data"
    },
    {
     "data": {
      "text/plain": [
       "<pybamm.plotting.quick_plot.QuickPlot at 0x7fbc247d53d0>"
      ]
     },
     "execution_count": 7,
     "metadata": {},
     "output_type": "execute_result"
    }
   ],
   "source": [
    "pybamm.dynamic_plot(sols)"
   ]
  },
  {
   "cell_type": "markdown",
   "id": "valid-humanity",
   "metadata": {},
   "source": [
    "As before, we can pass a list of variables to plot"
   ]
  },
  {
   "cell_type": "code",
   "execution_count": 8,
   "id": "89862125",
   "metadata": {},
   "outputs": [
    {
     "data": {
      "application/vnd.jupyter.widget-view+json": {
       "model_id": "e154412fdef14045856e8a7f7896e1bf",
       "version_major": 2,
       "version_minor": 0
      },
      "text/plain": [
       "interactive(children=(FloatSlider(value=0.0, description='t', max=1.0, step=0.01), Output()), _dom_classes=('w…"
      ]
     },
     "metadata": {},
     "output_type": "display_data"
    },
    {
     "data": {
      "text/plain": [
       "<pybamm.plotting.quick_plot.QuickPlot at 0x7fbbbdccdd60>"
      ]
     },
     "execution_count": 8,
     "metadata": {},
     "output_type": "execute_result"
    }
   ],
   "source": [
    "pybamm.dynamic_plot(sols, [\"Electrolyte current density\", \"Terminal voltage [V]\"])"
   ]
  },
  {
   "cell_type": "code",
   "execution_count": null,
   "id": "9906f3dc",
   "metadata": {},
   "outputs": [],
   "source": []
  }
 ],
 "metadata": {
  "kernelspec": {
   "display_name": "Python 3",
   "language": "python",
   "name": "python3"
  },
  "language_info": {
   "codemirror_mode": {
    "name": "ipython",
    "version": 3
   },
   "file_extension": ".py",
   "mimetype": "text/x-python",
   "name": "python",
   "nbconvert_exporter": "python",
   "pygments_lexer": "ipython3",
   "version": "3.8.8"
  }
 },
 "nbformat": 4,
 "nbformat_minor": 5
}
