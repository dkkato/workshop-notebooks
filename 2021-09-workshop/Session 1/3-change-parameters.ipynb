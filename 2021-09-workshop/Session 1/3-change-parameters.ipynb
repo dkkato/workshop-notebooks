{
 "cells": [
  {
   "cell_type": "markdown",
   "id": "sharing-percentage",
   "metadata": {},
   "source": [
    "# Session 1 \n",
    "## Changing parameters\n",
    "\n",
    "Let's begin by importing pybamm and loading the DFN model"
   ]
  },
  {
   "cell_type": "code",
   "execution_count": 1,
   "id": "64e587bc",
   "metadata": {},
   "outputs": [],
   "source": [
    "import pybamm"
   ]
  },
  {
   "cell_type": "code",
   "execution_count": 4,
   "id": "2d13534e",
   "metadata": {},
   "outputs": [],
   "source": [
    "model = pybamm.lithium_ion.DFN()"
   ]
  },
  {
   "cell_type": "markdown",
   "id": "junior-academy",
   "metadata": {},
   "source": [
    "PyBaMM comes with a number of parameter sets which are given AuthorYear names based on the publication they are from. In this notebook we are going to use the parameters from the paper \"Development of Experimental Techniques for Parameterization of Multi-scale Lithium-ion Battery Models\", Chen et al, JES 2020."
   ]
  },
  {
   "cell_type": "code",
   "execution_count": 5,
   "id": "0638b55c",
   "metadata": {},
   "outputs": [],
   "source": [
    "chemistry = pybamm.parameter_sets.Chen2020"
   ]
  },
  {
   "cell_type": "markdown",
   "id": "similar-casino",
   "metadata": {},
   "source": [
    "The parameter set is a dictionary which contains information about the cell, electrodes, separator and electrolyte. It also contains information about the \"experiment\" - in this case a 1C constant current discharge from full."
   ]
  },
  {
   "cell_type": "code",
   "execution_count": 6,
   "id": "ff3ac206",
   "metadata": {},
   "outputs": [
    {
     "data": {
      "text/plain": [
       "{'chemistry': 'lithium_ion',\n",
       " 'cell': 'LGM50_Chen2020',\n",
       " 'negative electrode': 'graphite_Chen2020',\n",
       " 'separator': 'separator_Chen2020',\n",
       " 'positive electrode': 'nmc_Chen2020',\n",
       " 'electrolyte': 'lipf6_Nyman2008',\n",
       " 'experiment': '1C_discharge_from_full_Chen2020',\n",
       " 'sei': 'example',\n",
       " 'citation': 'Chen2020'}"
      ]
     },
     "execution_count": 6,
     "metadata": {},
     "output_type": "execute_result"
    }
   ],
   "source": [
    "chemistry"
   ]
  },
  {
   "cell_type": "markdown",
   "id": "tired-engineering",
   "metadata": {},
   "source": [
    "We pass the parameter set to the `ParameterValues` class. This creates a dictionary of parameters in the correct format for the simulation"
   ]
  },
  {
   "cell_type": "code",
   "execution_count": 7,
   "id": "f9a99974",
   "metadata": {},
   "outputs": [],
   "source": [
    "params = pybamm.ParameterValues(chemistry=chemistry)"
   ]
  },
  {
   "cell_type": "markdown",
   "id": "indirect-ownership",
   "metadata": {},
   "source": [
    "We can take a look at all the parameters and their values. Note that some parameters are functions"
   ]
  },
  {
   "cell_type": "code",
   "execution_count": 8,
   "id": "6c8f4802",
   "metadata": {},
   "outputs": [
    {
     "data": {
      "text/plain": [
       "{'1 + dlnf/dlnc': 1.0,\n",
       " 'Ambient temperature [K]': 298.15,\n",
       " 'Bulk solvent concentration [mol.m-3]': 2636.0,\n",
       " 'Cation transference number': 0.2594,\n",
       " 'Cell cooling surface area [m2]': 0.00531,\n",
       " 'Cell volume [m3]': 2.42e-05,\n",
       " 'Current function [A]': 5.0,\n",
       " 'EC diffusivity [m2.s-1]': 2e-18,\n",
       " 'EC initial concentration in electrolyte [mol.m-3]': 4541.0,\n",
       " 'Electrode height [m]': 0.065,\n",
       " 'Electrode width [m]': 1.58,\n",
       " 'Electrolyte conductivity [S.m-1]': <function electrolyte_conductivity_Nyman2008 at 0x7f0daf82e4c0>,\n",
       " 'Electrolyte diffusivity [m2.s-1]': <function electrolyte_diffusivity_Nyman2008 at 0x7f0daf82e310>,\n",
       " 'Initial concentration in electrolyte [mol.m-3]': 1000.0,\n",
       " 'Initial concentration in negative electrode [mol.m-3]': 29866.0,\n",
       " 'Initial concentration in positive electrode [mol.m-3]': 17038.0,\n",
       " 'Initial inner SEI thickness [m]': 2.5e-09,\n",
       " 'Initial outer SEI thickness [m]': 2.5e-09,\n",
       " 'Initial temperature [K]': 298.15,\n",
       " 'Inner SEI electron conductivity [S.m-1]': 8.95e-14,\n",
       " 'Inner SEI lithium interstitial diffusivity [m2.s-1]': 1e-20,\n",
       " 'Inner SEI open-circuit potential [V]': 0.1,\n",
       " 'Inner SEI partial molar volume [m3.mol-1]': 9.585e-05,\n",
       " 'Inner SEI reaction proportion': 0.5,\n",
       " 'Lithium interstitial reference concentration [mol.m-3]': 15.0,\n",
       " 'Lower voltage cut-off [V]': 2.5,\n",
       " 'Maximum concentration in negative electrode [mol.m-3]': 33133.0,\n",
       " 'Maximum concentration in positive electrode [mol.m-3]': 63104.0,\n",
       " 'Negative current collector conductivity [S.m-1]': 58411000.0,\n",
       " 'Negative current collector density [kg.m-3]': 8960.0,\n",
       " 'Negative current collector specific heat capacity [J.kg-1.K-1]': 385.0,\n",
       " 'Negative current collector thermal conductivity [W.m-1.K-1]': 401.0,\n",
       " 'Negative current collector thickness [m]': 1.2e-05,\n",
       " 'Negative electrode Bruggeman coefficient (electrode)': 1.5,\n",
       " 'Negative electrode Bruggeman coefficient (electrolyte)': 1.5,\n",
       " 'Negative electrode OCP [V]': <function graphite_LGM50_ocp_Chen2020 at 0x7f0dafbfe820>,\n",
       " 'Negative electrode OCP entropic change [V.K-1]': 0.0,\n",
       " 'Negative electrode active material volume fraction': 0.75,\n",
       " 'Negative electrode cation signed stoichiometry': -1.0,\n",
       " 'Negative electrode charge transfer coefficient': 0.5,\n",
       " 'Negative electrode conductivity [S.m-1]': 215.0,\n",
       " 'Negative electrode density [kg.m-3]': 1657.0,\n",
       " 'Negative electrode diffusivity [m2.s-1]': 3.3e-14,\n",
       " 'Negative electrode double-layer capacity [F.m-2]': 0.2,\n",
       " 'Negative electrode electrons in reaction': 1.0,\n",
       " 'Negative electrode exchange-current density [A.m-2]': <function graphite_LGM50_electrolyte_exchange_current_density_Chen2020 at 0x7f0dafbfe700>,\n",
       " 'Negative electrode porosity': 0.25,\n",
       " 'Negative electrode reaction-driven LAM factor [m3.mol-1]': 0.0,\n",
       " 'Negative electrode specific heat capacity [J.kg-1.K-1]': 700.0,\n",
       " 'Negative electrode thermal conductivity [W.m-1.K-1]': 1.7,\n",
       " 'Negative electrode thickness [m]': 8.52e-05,\n",
       " 'Negative particle radius [m]': 5.86e-06,\n",
       " 'Nominal cell capacity [A.h]': 5.0,\n",
       " 'Number of cells connected in series to make a battery': 1.0,\n",
       " 'Number of electrodes connected in parallel to make a cell': 1.0,\n",
       " 'Outer SEI open-circuit potential [V]': 0.8,\n",
       " 'Outer SEI partial molar volume [m3.mol-1]': 9.585e-05,\n",
       " 'Outer SEI solvent diffusivity [m2.s-1]': 2.5000000000000002e-22,\n",
       " 'Positive current collector conductivity [S.m-1]': 36914000.0,\n",
       " 'Positive current collector density [kg.m-3]': 2700.0,\n",
       " 'Positive current collector specific heat capacity [J.kg-1.K-1]': 897.0,\n",
       " 'Positive current collector thermal conductivity [W.m-1.K-1]': 237.0,\n",
       " 'Positive current collector thickness [m]': 1.6e-05,\n",
       " 'Positive electrode Bruggeman coefficient (electrode)': 1.5,\n",
       " 'Positive electrode Bruggeman coefficient (electrolyte)': 1.5,\n",
       " 'Positive electrode OCP [V]': <function nmc_LGM50_ocp_Chen2020 at 0x7f0dafbfe8b0>,\n",
       " 'Positive electrode OCP entropic change [V.K-1]': 0.0,\n",
       " 'Positive electrode active material volume fraction': 0.665,\n",
       " 'Positive electrode cation signed stoichiometry': -1.0,\n",
       " 'Positive electrode charge transfer coefficient': 0.5,\n",
       " 'Positive electrode conductivity [S.m-1]': 0.18,\n",
       " 'Positive electrode density [kg.m-3]': 3262.0,\n",
       " 'Positive electrode diffusivity [m2.s-1]': 4e-15,\n",
       " 'Positive electrode double-layer capacity [F.m-2]': 0.2,\n",
       " 'Positive electrode electrons in reaction': 1.0,\n",
       " 'Positive electrode exchange-current density [A.m-2]': <function nmc_LGM50_electrolyte_exchange_current_density_Chen2020 at 0x7f0dafbfe9d0>,\n",
       " 'Positive electrode porosity': 0.335,\n",
       " 'Positive electrode reaction-driven LAM factor [m3.mol-1]': 0.0,\n",
       " 'Positive electrode specific heat capacity [J.kg-1.K-1]': 700.0,\n",
       " 'Positive electrode thermal conductivity [W.m-1.K-1]': 2.1,\n",
       " 'Positive electrode thickness [m]': 7.56e-05,\n",
       " 'Positive particle radius [m]': 5.22e-06,\n",
       " 'Ratio of inner and outer SEI exchange current densities': 1.0,\n",
       " 'Reference temperature [K]': 298.15,\n",
       " 'SEI kinetic rate constant [m.s-1]': 1e-12,\n",
       " 'SEI open-circuit potential [V]': 0.4,\n",
       " 'SEI reaction exchange current density [A.m-2]': 1.5e-07,\n",
       " 'SEI resistivity [Ohm.m]': 200000.0,\n",
       " 'Separator Bruggeman coefficient (electrolyte)': 1.5,\n",
       " 'Separator density [kg.m-3]': 397.0,\n",
       " 'Separator porosity': 0.47,\n",
       " 'Separator specific heat capacity [J.kg-1.K-1]': 700.0,\n",
       " 'Separator thermal conductivity [W.m-1.K-1]': 0.16,\n",
       " 'Separator thickness [m]': 1.2e-05,\n",
       " 'Total heat transfer coefficient [W.m-2.K-1]': 10.0,\n",
       " 'Typical current [A]': 5.0,\n",
       " 'Typical electrolyte concentration [mol.m-3]': 1000.0,\n",
       " 'Upper voltage cut-off [V]': 4.2}"
      ]
     },
     "execution_count": 8,
     "metadata": {},
     "output_type": "execute_result"
    }
   ],
   "source": [
    "params"
   ]
  },
  {
   "cell_type": "markdown",
   "id": "hybrid-broadway",
   "metadata": {},
   "source": [
    "We can search the parameters to find parameter values we are interested in "
   ]
  },
  {
   "cell_type": "code",
   "execution_count": 9,
   "id": "abd9af43",
   "metadata": {},
   "outputs": [
    {
     "name": "stdout",
     "output_type": "stream",
     "text": [
      "EC initial concentration in electrolyte [mol.m-3]\t4541.0\n",
      "Electrolyte conductivity [S.m-1]\t<function electrolyte_conductivity_Nyman2008 at 0x7f0daf82e4c0>\n",
      "Electrolyte diffusivity [m2.s-1]\t<function electrolyte_diffusivity_Nyman2008 at 0x7f0daf82e310>\n",
      "Initial concentration in electrolyte [mol.m-3]\t1000.0\n",
      "Negative electrode Bruggeman coefficient (electrolyte)\t1.5\n",
      "Positive electrode Bruggeman coefficient (electrolyte)\t1.5\n",
      "Separator Bruggeman coefficient (electrolyte)\t1.5\n",
      "Typical electrolyte concentration [mol.m-3]\t1000.0\n"
     ]
    }
   ],
   "source": [
    "params.search(\"electrolyte\")"
   ]
  },
  {
   "cell_type": "markdown",
   "id": "brave-comparative",
   "metadata": {},
   "source": [
    "Not all of the parameters are required the model. To take a look at the parameters appearing in a particular model you can do "
   ]
  },
  {
   "cell_type": "code",
   "execution_count": 10,
   "id": "corrected-consumption",
   "metadata": {},
   "outputs": [
    {
     "name": "stdout",
     "output_type": "stream",
     "text": [
      "Maximum concentration in negative electrode [mol.m-3] (Parameter)\n",
      "Negative electrode thickness [m] (Parameter)\n",
      "Separator thickness [m] (Parameter)\n",
      "Positive electrode thickness [m] (Parameter)\n",
      "Typical current [A] (Parameter)\n",
      "Number of electrodes connected in parallel to make a cell (Parameter)\n",
      "Electrode width [m] (Parameter)\n",
      "Electrode height [m] (Parameter)\n",
      "Reference temperature [K] (Parameter)\n",
      "Negative electrode Bruggeman coefficient (electrolyte) (Parameter)\n",
      "Separator Bruggeman coefficient (electrolyte) (Parameter)\n",
      "Positive electrode Bruggeman coefficient (electrolyte) (Parameter)\n",
      "Typical electrolyte concentration [mol.m-3] (Parameter)\n",
      "Negative electrode electrons in reaction (Parameter)\n",
      "Maximum concentration in positive electrode [mol.m-3] (Parameter)\n",
      "Positive electrode electrons in reaction (Parameter)\n",
      "Initial temperature [K] (Parameter)\n",
      "Initial concentration in electrolyte [mol.m-3] (Parameter)\n",
      "Nominal cell capacity [A.h] (Parameter)\n",
      "Number of cells connected in series to make a battery (Parameter)\n",
      "Lower voltage cut-off [V] (Parameter)\n",
      "Upper voltage cut-off [V] (Parameter)\n",
      "Current function [A] (FunctionParameter with input(s) 'Time [s]')\n",
      "Negative particle radius [m] (FunctionParameter with input(s) 'Through-cell distance (x_n) [m]')\n",
      "Negative electrode diffusivity [m2.s-1] (FunctionParameter with input(s) 'Negative particle stoichiometry', 'Temperature [K]')\n",
      "Positive particle radius [m] (FunctionParameter with input(s) 'Through-cell distance (x_p) [m]')\n",
      "Positive electrode diffusivity [m2.s-1] (FunctionParameter with input(s) 'Positive particle stoichiometry', 'Temperature [K]')\n",
      "Negative electrode porosity (FunctionParameter with input(s) 'Through-cell distance (x_n) [m]')\n",
      "Separator porosity (FunctionParameter with input(s) 'Through-cell distance (x_s) [m]')\n",
      "Positive electrode porosity (FunctionParameter with input(s) 'Through-cell distance (x_p) [m]')\n",
      "Electrolyte diffusivity [m2.s-1] (FunctionParameter with input(s) 'Electrolyte concentration [mol.m-3]', 'Temperature [K]')\n",
      "Cation transference number (FunctionParameter with input(s) 'Electrolyte concentration [mol.m-3]', 'Temperature [K]')\n",
      "Electrolyte conductivity [S.m-1] (FunctionParameter with input(s) 'Electrolyte concentration [mol.m-3]', 'Temperature [K]')\n",
      "1 + dlnf/dlnc (FunctionParameter with input(s) 'Electrolyte concentration [mol.m-3]', 'Temperature [K]')\n",
      "Ambient temperature [K] (FunctionParameter with input(s) 'Time [s]')\n",
      "Negative electrode active material volume fraction (FunctionParameter with input(s) 'Through-cell distance (x_n) [m]')\n",
      "Positive electrode active material volume fraction (FunctionParameter with input(s) 'Through-cell distance (x_p) [m]')\n",
      "Negative electrode exchange-current density [A.m-2] (FunctionParameter with input(s) 'Electrolyte concentration [mol.m-3]', 'Negative particle surface concentration [mol.m-3]', 'Temperature [K]')\n",
      "Negative electrode OCP [V] (FunctionParameter with input(s) 'Negative particle stoichiometry')\n",
      "Negative electrode OCP entropic change [V.K-1] (FunctionParameter with input(s) 'Negative particle stoichiometry')\n",
      "Initial concentration in negative electrode [mol.m-3] (FunctionParameter with input(s) 'Dimensionless through-cell position (x_n)')\n",
      "Positive electrode exchange-current density [A.m-2] (FunctionParameter with input(s) 'Electrolyte concentration [mol.m-3]', 'Positive particle surface concentration [mol.m-3]', 'Temperature [K]')\n",
      "Positive electrode OCP [V] (FunctionParameter with input(s) 'Positive particle stoichiometry')\n",
      "Positive electrode OCP entropic change [V.K-1] (FunctionParameter with input(s) 'Positive particle stoichiometry')\n",
      "Initial concentration in positive electrode [mol.m-3] (FunctionParameter with input(s) 'Dimensionless through-cell position (x_p)')\n",
      "Negative electrode conductivity [S.m-1] (FunctionParameter with input(s) 'Temperature [K]')\n",
      "Positive electrode conductivity [S.m-1] (FunctionParameter with input(s) 'Temperature [K]')\n",
      "\n"
     ]
    }
   ],
   "source": [
    "model.print_parameter_info()"
   ]
  },
  {
   "cell_type": "markdown",
   "id": "fleet-brick",
   "metadata": {},
   "source": [
    "This shows us which parameters appear in the model and lets us know if they are constants or functions. For parameters that are function `print_parameter_info` shows what they are functions of (e.g. temperature).\n",
    "\n",
    "Now we can create a simulation and pass in our parameter values as a keyword argument "
   ]
  },
  {
   "cell_type": "code",
   "execution_count": 11,
   "id": "7d3208eb",
   "metadata": {},
   "outputs": [],
   "source": [
    "sim = pybamm.Simulation(model, parameter_values=params)"
   ]
  },
  {
   "cell_type": "markdown",
   "id": "pressing-bruce",
   "metadata": {},
   "source": [
    "Let's solve and plot"
   ]
  },
  {
   "cell_type": "code",
   "execution_count": 12,
   "id": "98ab459e",
   "metadata": {},
   "outputs": [
    {
     "data": {
      "application/vnd.jupyter.widget-view+json": {
       "model_id": "e8ba52683be14ec9aa2f87be1ced403f",
       "version_major": 2,
       "version_minor": 0
      },
      "text/plain": [
       "interactive(children=(FloatSlider(value=0.0, description='t', max=3553.12977501657, step=35.5312977501657), Ou…"
      ]
     },
     "metadata": {},
     "output_type": "display_data"
    },
    {
     "data": {
      "text/plain": [
       "<pybamm.plotting.quick_plot.QuickPlot at 0x7f0dafb910d0>"
      ]
     },
     "execution_count": 12,
     "metadata": {},
     "output_type": "execute_result"
    }
   ],
   "source": [
    "sim.solve([0, 3600])\n",
    "sim.plot()"
   ]
  },
  {
   "cell_type": "markdown",
   "id": "perfect-afghanistan",
   "metadata": {},
   "source": [
    "As well as changing the entire parameter set you can update individual parameters. Let's take a look at the default value of the \"Current function \\[A]\\\" (i.e. the applied current) in the Chen2020 parameter set"
   ]
  },
  {
   "cell_type": "code",
   "execution_count": 12,
   "id": "4c55ba05",
   "metadata": {},
   "outputs": [
    {
     "data": {
      "text/plain": [
       "5.0"
      ]
     },
     "execution_count": 12,
     "metadata": {},
     "output_type": "execute_result"
    }
   ],
   "source": [
    "params[\"Current function [A]\"]"
   ]
  },
  {
   "cell_type": "markdown",
   "id": "pending-charger",
   "metadata": {},
   "source": [
    "The default current is 5A, and this corresponds to a C-rate of 1. Let's double the applied current"
   ]
  },
  {
   "cell_type": "code",
   "execution_count": 13,
   "id": "43b70e89",
   "metadata": {},
   "outputs": [],
   "source": [
    "params[\"Current function [A]\"] = 10"
   ]
  },
  {
   "cell_type": "markdown",
   "id": "durable-intermediate",
   "metadata": {},
   "source": [
    "and create and solve a new simulation using the updated parameter values"
   ]
  },
  {
   "cell_type": "code",
   "execution_count": 14,
   "id": "74397ac6",
   "metadata": {},
   "outputs": [
    {
     "data": {
      "text/plain": [
       "<pybamm.solvers.solution.Solution at 0x7f0dabb7b8b0>"
      ]
     },
     "execution_count": 14,
     "metadata": {},
     "output_type": "execute_result"
    }
   ],
   "source": [
    "new_sim = pybamm.Simulation(model, parameter_values=params)\n",
    "new_sim.solve([0, 3600])"
   ]
  },
  {
   "cell_type": "markdown",
   "id": "integrated-obligation",
   "metadata": {},
   "source": [
    "We can plot the result on its own"
   ]
  },
  {
   "cell_type": "code",
   "execution_count": 17,
   "id": "5d5d2f34",
   "metadata": {},
   "outputs": [
    {
     "data": {
      "application/vnd.jupyter.widget-view+json": {
       "model_id": "3eaf9023ad8448638696dae0bed7e08f",
       "version_major": 2,
       "version_minor": 0
      },
      "text/plain": [
       "interactive(children=(FloatSlider(value=0.0, description='t', max=1700.9314030838186, step=17.009314030838187)…"
      ]
     },
     "metadata": {},
     "output_type": "display_data"
    },
    {
     "data": {
      "text/plain": [
       "<pybamm.plotting.quick_plot.QuickPlot at 0x7f0dabe7c160>"
      ]
     },
     "execution_count": 17,
     "metadata": {},
     "output_type": "execute_result"
    }
   ],
   "source": [
    "new_sim.plot()"
   ]
  },
  {
   "cell_type": "markdown",
   "id": "cross-alignment",
   "metadata": {},
   "source": [
    "or compare it to the previous result"
   ]
  },
  {
   "cell_type": "code",
   "execution_count": 18,
   "id": "a01e90f0",
   "metadata": {},
   "outputs": [
    {
     "data": {
      "application/vnd.jupyter.widget-view+json": {
       "model_id": "bd0a7b7de96b44a2aa307debc55e2dfd",
       "version_major": 2,
       "version_minor": 0
      },
      "text/plain": [
       "interactive(children=(FloatSlider(value=0.0, description='t', max=3553.12977501657, step=35.5312977501657), Ou…"
      ]
     },
     "metadata": {},
     "output_type": "display_data"
    },
    {
     "data": {
      "text/plain": [
       "<pybamm.plotting.quick_plot.QuickPlot at 0x7f0daf8c28b0>"
      ]
     },
     "execution_count": 18,
     "metadata": {},
     "output_type": "execute_result"
    }
   ],
   "source": [
    "sols= [sim.solution, new_sim.solution]\n",
    "labels=[\"1C\", \"2C\"]\n",
    "pybamm.dynamic_plot(sols, labels=labels)"
   ]
  },
  {
   "cell_type": "markdown",
   "id": "executive-supplier",
   "metadata": {},
   "source": [
    "It might be more instructive to plot the voltage as a function of discharge capacity. Let's create a custom plot"
   ]
  },
  {
   "cell_type": "code",
   "execution_count": 19,
   "id": "26e468c8",
   "metadata": {},
   "outputs": [
    {
     "data": {
      "text/plain": [
       "<matplotlib.legend.Legend at 0x7f0dac2220d0>"
      ]
     },
     "execution_count": 19,
     "metadata": {},
     "output_type": "execute_result"
    },
    {
     "data": {
      "image/png": "[encoded data removed]",
      "text/plain": [
       "<Figure size 432x288 with 1 Axes>"
      ]
     },
     "metadata": {
      "needs_background": "light"
     },
     "output_type": "display_data"
    }
   ],
   "source": [
    "import matplotlib.pyplot as plt\n",
    "\n",
    "fig, ax = plt.subplots()\n",
    "for solution, label in zip(sols, labels):\n",
    "    dcap = solution[\"Discharge capacity [A.h]\"].data\n",
    "    voltage = solution[\"Terminal voltage [V]\"].data\n",
    "    ax.plot(dcap, voltage, label=label)\n",
    "ax.set_xlabel(\"Discharge capacity [Ah]\")    \n",
    "ax.set_ylabel(\"Voltage [V]\")\n",
    "ax.legend()"
   ]
  },
  {
   "cell_type": "markdown",
   "id": "endless-coral",
   "metadata": {},
   "source": [
    "From the parameter info we see that the current can depend on time. Let's set up a new simulation where we apply a sinusoidal current. First we define our current function "
   ]
  },
  {
   "cell_type": "code",
   "execution_count": 20,
   "id": "bbce2e1e",
   "metadata": {},
   "outputs": [],
   "source": [
    "import numpy as np \n",
    "\n",
    "def my_current(t):\n",
    "    return -0.1 * pybamm.sin(2*np.pi*t/60)"
   ]
  },
  {
   "cell_type": "markdown",
   "id": "going-tourist",
   "metadata": {},
   "source": [
    "and then update the parameter values"
   ]
  },
  {
   "cell_type": "code",
   "execution_count": 21,
   "id": "e93f89ed",
   "metadata": {},
   "outputs": [],
   "source": [
    "params[\"Current function [A]\"] = my_current"
   ]
  },
  {
   "cell_type": "markdown",
   "id": "periodic-reception",
   "metadata": {},
   "source": [
    "Finally we create a solve a new simulation. Note here that we pass an array of times instead of a window. This gives us more control over the times the solution is returned at, and lets us make sure there are enough data points to capture the oscillations in the solution "
   ]
  },
  {
   "cell_type": "code",
   "execution_count": 22,
   "id": "42b8e805",
   "metadata": {},
   "outputs": [
    {
     "data": {
      "application/vnd.jupyter.widget-view+json": {
       "model_id": "4aeaccbc6f9449528d2fd46db007126b",
       "version_major": 2,
       "version_minor": 0
      },
      "text/plain": [
       "interactive(children=(FloatSlider(value=0.0, description='t', max=179.99999999999997, step=1.7999999999999998)…"
      ]
     },
     "metadata": {},
     "output_type": "display_data"
    },
    {
     "data": {
      "text/plain": [
       "<pybamm.plotting.quick_plot.QuickPlot at 0x7f0dab753df0>"
      ]
     },
     "execution_count": 22,
     "metadata": {},
     "output_type": "execute_result"
    }
   ],
   "source": [
    "sin_sim = pybamm.Simulation(model, parameter_values=params)\n",
    "t_eval = np.arange(0, 181, 1)\n",
    "sin_sim.solve(t_eval)\n",
    "sin_sim.plot([\"Current [A]\", \"Terminal voltage [V]\"])"
   ]
  },
  {
   "cell_type": "code",
   "execution_count": null,
   "id": "608699f1",
   "metadata": {},
   "outputs": [],
   "source": []
  }
 ],
 "metadata": {
  "kernelspec": {
   "display_name": "Python 3",
   "language": "python",
   "name": "python3"
  },
  "language_info": {
   "codemirror_mode": {
    "name": "ipython",
    "version": 3
   },
   "file_extension": ".py",
   "mimetype": "text/x-python",
   "name": "python",
   "nbconvert_exporter": "python",
   "pygments_lexer": "ipython3",
   "version": "3.8.8"
  }
 },
 "nbformat": 4,
 "nbformat_minor": 5
}
